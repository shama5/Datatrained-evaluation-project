{
 "cells": [
  {
   "cell_type": "markdown",
   "metadata": {},
   "source": [
    "# In this Dataset we are going to Predict Restaurant Food Cost "
   ]
  },
  {
   "cell_type": "markdown",
   "metadata": {},
   "source": [
    "importing necessary library"
   ]
  },
  {
   "cell_type": "code",
   "execution_count": 158,
   "metadata": {},
   "outputs": [],
   "source": [
    "import pandas as pd\n",
    "import numpy as np\n",
    "import matplotlib.pyplot as plt\n",
    "import seaborn as sns\n",
    "\n",
    "#importing warnings\n",
    "import warnings\n",
    "warnings.filterwarnings('ignore')"
   ]
  },
  {
   "cell_type": "code",
   "execution_count": 159,
   "metadata": {},
   "outputs": [
    {
     "data": {
      "text/html": [
       "<div>\n",
       "<style scoped>\n",
       "    .dataframe tbody tr th:only-of-type {\n",
       "        vertical-align: middle;\n",
       "    }\n",
       "\n",
       "    .dataframe tbody tr th {\n",
       "        vertical-align: top;\n",
       "    }\n",
       "\n",
       "    .dataframe thead th {\n",
       "        text-align: right;\n",
       "    }\n",
       "</style>\n",
       "<table border=\"1\" class=\"dataframe\">\n",
       "  <thead>\n",
       "    <tr style=\"text-align: right;\">\n",
       "      <th></th>\n",
       "      <th>TITLE</th>\n",
       "      <th>RESTAURANT_ID</th>\n",
       "      <th>CUISINES</th>\n",
       "      <th>TIME</th>\n",
       "      <th>CITY</th>\n",
       "      <th>LOCALITY</th>\n",
       "      <th>RATING</th>\n",
       "      <th>VOTES</th>\n",
       "      <th>COST</th>\n",
       "    </tr>\n",
       "  </thead>\n",
       "  <tbody>\n",
       "    <tr>\n",
       "      <th>0</th>\n",
       "      <td>CASUAL DINING</td>\n",
       "      <td>9438</td>\n",
       "      <td>Malwani, Goan, North Indian</td>\n",
       "      <td>11am – 4pm, 7:30pm – 11:30pm (Mon-Sun)</td>\n",
       "      <td>Thane</td>\n",
       "      <td>Dombivali East</td>\n",
       "      <td>3.6</td>\n",
       "      <td>49 votes</td>\n",
       "      <td>1200</td>\n",
       "    </tr>\n",
       "    <tr>\n",
       "      <th>1</th>\n",
       "      <td>CASUAL DINING,BAR</td>\n",
       "      <td>13198</td>\n",
       "      <td>Asian, Modern Indian, Japanese</td>\n",
       "      <td>6pm – 11pm (Mon-Sun)</td>\n",
       "      <td>Chennai</td>\n",
       "      <td>Ramapuram</td>\n",
       "      <td>4.2</td>\n",
       "      <td>30 votes</td>\n",
       "      <td>1500</td>\n",
       "    </tr>\n",
       "    <tr>\n",
       "      <th>2</th>\n",
       "      <td>CASUAL DINING</td>\n",
       "      <td>10915</td>\n",
       "      <td>North Indian, Chinese, Biryani, Hyderabadi</td>\n",
       "      <td>11am – 3:30pm, 7pm – 11pm (Mon-Sun)</td>\n",
       "      <td>Chennai</td>\n",
       "      <td>Saligramam</td>\n",
       "      <td>3.8</td>\n",
       "      <td>221 votes</td>\n",
       "      <td>800</td>\n",
       "    </tr>\n",
       "    <tr>\n",
       "      <th>3</th>\n",
       "      <td>QUICK BITES</td>\n",
       "      <td>6346</td>\n",
       "      <td>Tibetan, Chinese</td>\n",
       "      <td>11:30am – 1am (Mon-Sun)</td>\n",
       "      <td>Mumbai</td>\n",
       "      <td>Bandra West</td>\n",
       "      <td>4.1</td>\n",
       "      <td>24 votes</td>\n",
       "      <td>800</td>\n",
       "    </tr>\n",
       "    <tr>\n",
       "      <th>4</th>\n",
       "      <td>DESSERT PARLOR</td>\n",
       "      <td>15387</td>\n",
       "      <td>Desserts</td>\n",
       "      <td>11am – 1am (Mon-Sun)</td>\n",
       "      <td>Mumbai</td>\n",
       "      <td>Lower Parel</td>\n",
       "      <td>3.8</td>\n",
       "      <td>165 votes</td>\n",
       "      <td>300</td>\n",
       "    </tr>\n",
       "  </tbody>\n",
       "</table>\n",
       "</div>"
      ],
      "text/plain": [
       "               TITLE  RESTAURANT_ID  \\\n",
       "0      CASUAL DINING           9438   \n",
       "1  CASUAL DINING,BAR          13198   \n",
       "2      CASUAL DINING          10915   \n",
       "3        QUICK BITES           6346   \n",
       "4     DESSERT PARLOR          15387   \n",
       "\n",
       "                                     CUISINES  \\\n",
       "0                 Malwani, Goan, North Indian   \n",
       "1              Asian, Modern Indian, Japanese   \n",
       "2  North Indian, Chinese, Biryani, Hyderabadi   \n",
       "3                            Tibetan, Chinese   \n",
       "4                                    Desserts   \n",
       "\n",
       "                                     TIME     CITY        LOCALITY RATING  \\\n",
       "0  11am – 4pm, 7:30pm – 11:30pm (Mon-Sun)    Thane  Dombivali East    3.6   \n",
       "1                    6pm – 11pm (Mon-Sun)  Chennai       Ramapuram    4.2   \n",
       "2     11am – 3:30pm, 7pm – 11pm (Mon-Sun)  Chennai      Saligramam    3.8   \n",
       "3                 11:30am – 1am (Mon-Sun)   Mumbai     Bandra West    4.1   \n",
       "4                    11am – 1am (Mon-Sun)   Mumbai     Lower Parel    3.8   \n",
       "\n",
       "       VOTES  COST  \n",
       "0   49 votes  1200  \n",
       "1   30 votes  1500  \n",
       "2  221 votes   800  \n",
       "3   24 votes   800  \n",
       "4  165 votes   300  "
      ]
     },
     "execution_count": 159,
     "metadata": {},
     "output_type": "execute_result"
    }
   ],
   "source": [
    "#loading the train dataset\n",
    "df=pd.read_excel('restaurant_train.xlsx')\n",
    "df.head()"
   ]
  },
  {
   "cell_type": "code",
   "execution_count": 160,
   "metadata": {},
   "outputs": [
    {
     "data": {
      "text/html": [
       "<div>\n",
       "<style scoped>\n",
       "    .dataframe tbody tr th:only-of-type {\n",
       "        vertical-align: middle;\n",
       "    }\n",
       "\n",
       "    .dataframe tbody tr th {\n",
       "        vertical-align: top;\n",
       "    }\n",
       "\n",
       "    .dataframe thead th {\n",
       "        text-align: right;\n",
       "    }\n",
       "</style>\n",
       "<table border=\"1\" class=\"dataframe\">\n",
       "  <thead>\n",
       "    <tr style=\"text-align: right;\">\n",
       "      <th></th>\n",
       "      <th>TITLE</th>\n",
       "      <th>RESTAURANT_ID</th>\n",
       "      <th>CUISINES</th>\n",
       "      <th>TIME</th>\n",
       "      <th>CITY</th>\n",
       "      <th>LOCALITY</th>\n",
       "      <th>RATING</th>\n",
       "      <th>VOTES</th>\n",
       "    </tr>\n",
       "  </thead>\n",
       "  <tbody>\n",
       "    <tr>\n",
       "      <th>0</th>\n",
       "      <td>CASUAL DINING</td>\n",
       "      <td>4085</td>\n",
       "      <td>North Indian, Chinese, Mughlai, Kebab</td>\n",
       "      <td>12noon – 12midnight (Mon-Sun)</td>\n",
       "      <td>Noida</td>\n",
       "      <td>Sector 18</td>\n",
       "      <td>4.3</td>\n",
       "      <td>564 votes</td>\n",
       "    </tr>\n",
       "    <tr>\n",
       "      <th>1</th>\n",
       "      <td>QUICK BITES</td>\n",
       "      <td>12680</td>\n",
       "      <td>South Indian, Fast Food, Pizza, North Indian</td>\n",
       "      <td>7am – 12:30AM (Mon-Sun)</td>\n",
       "      <td>Mumbai</td>\n",
       "      <td>Grant Road</td>\n",
       "      <td>4.2</td>\n",
       "      <td>61 votes</td>\n",
       "    </tr>\n",
       "    <tr>\n",
       "      <th>2</th>\n",
       "      <td>CASUAL DINING</td>\n",
       "      <td>1411</td>\n",
       "      <td>North Indian, Seafood, Biryani, Chinese</td>\n",
       "      <td>11am – 11:30pm (Mon-Sun)</td>\n",
       "      <td>Mumbai</td>\n",
       "      <td>Marine Lines</td>\n",
       "      <td>3.8</td>\n",
       "      <td>350 votes</td>\n",
       "    </tr>\n",
       "    <tr>\n",
       "      <th>3</th>\n",
       "      <td>None</td>\n",
       "      <td>204</td>\n",
       "      <td>Biryani</td>\n",
       "      <td>9am – 10pm (Mon, Wed, Thu, Fri, Sat, Sun), 10:...</td>\n",
       "      <td>Faridabad</td>\n",
       "      <td>NIT</td>\n",
       "      <td>3.8</td>\n",
       "      <td>1445 votes</td>\n",
       "    </tr>\n",
       "    <tr>\n",
       "      <th>4</th>\n",
       "      <td>QUICK BITES</td>\n",
       "      <td>13453</td>\n",
       "      <td>South Indian, Kerala</td>\n",
       "      <td>11am – 10pm (Mon-Sun)</td>\n",
       "      <td>Kochi</td>\n",
       "      <td>Kaloor</td>\n",
       "      <td>3.6</td>\n",
       "      <td>23 votes</td>\n",
       "    </tr>\n",
       "  </tbody>\n",
       "</table>\n",
       "</div>"
      ],
      "text/plain": [
       "           TITLE  RESTAURANT_ID                                      CUISINES  \\\n",
       "0  CASUAL DINING           4085         North Indian, Chinese, Mughlai, Kebab   \n",
       "1    QUICK BITES          12680  South Indian, Fast Food, Pizza, North Indian   \n",
       "2  CASUAL DINING           1411       North Indian, Seafood, Biryani, Chinese   \n",
       "3           None            204                                       Biryani   \n",
       "4    QUICK BITES          13453                          South Indian, Kerala   \n",
       "\n",
       "                                                TIME       CITY      LOCALITY  \\\n",
       "0                      12noon – 12midnight (Mon-Sun)      Noida     Sector 18   \n",
       "1                            7am – 12:30AM (Mon-Sun)     Mumbai    Grant Road   \n",
       "2                           11am – 11:30pm (Mon-Sun)     Mumbai  Marine Lines   \n",
       "3  9am – 10pm (Mon, Wed, Thu, Fri, Sat, Sun), 10:...  Faridabad           NIT   \n",
       "4                              11am – 10pm (Mon-Sun)      Kochi        Kaloor   \n",
       "\n",
       "  RATING       VOTES  \n",
       "0    4.3   564 votes  \n",
       "1    4.2    61 votes  \n",
       "2    3.8   350 votes  \n",
       "3    3.8  1445 votes  \n",
       "4    3.6    23 votes  "
      ]
     },
     "execution_count": 160,
     "metadata": {},
     "output_type": "execute_result"
    }
   ],
   "source": [
    "#loading the test dataset\n",
    "df1=pd.read_excel('restaurant_test.xlsx')\n",
    "df1.head()"
   ]
  },
  {
   "cell_type": "markdown",
   "metadata": {},
   "source": [
    "Now from here ,we first analyze the train data and then the same process is repeated for test data.\n",
    "\n",
    "If we concate train & test data,then there is a chance of data leakage,so we analyze them seperately"
   ]
  },
  {
   "cell_type": "markdown",
   "metadata": {},
   "source": [
    "# TRAIN DATA"
   ]
  },
  {
   "cell_type": "code",
   "execution_count": 161,
   "metadata": {},
   "outputs": [
    {
     "data": {
      "text/html": [
       "<div>\n",
       "<style scoped>\n",
       "    .dataframe tbody tr th:only-of-type {\n",
       "        vertical-align: middle;\n",
       "    }\n",
       "\n",
       "    .dataframe tbody tr th {\n",
       "        vertical-align: top;\n",
       "    }\n",
       "\n",
       "    .dataframe thead th {\n",
       "        text-align: right;\n",
       "    }\n",
       "</style>\n",
       "<table border=\"1\" class=\"dataframe\">\n",
       "  <thead>\n",
       "    <tr style=\"text-align: right;\">\n",
       "      <th></th>\n",
       "      <th>TITLE</th>\n",
       "      <th>RESTAURANT_ID</th>\n",
       "      <th>CUISINES</th>\n",
       "      <th>TIME</th>\n",
       "      <th>CITY</th>\n",
       "      <th>LOCALITY</th>\n",
       "      <th>RATING</th>\n",
       "      <th>VOTES</th>\n",
       "      <th>COST</th>\n",
       "    </tr>\n",
       "  </thead>\n",
       "  <tbody>\n",
       "    <tr>\n",
       "      <th>0</th>\n",
       "      <td>CASUAL DINING</td>\n",
       "      <td>9438</td>\n",
       "      <td>Malwani, Goan, North Indian</td>\n",
       "      <td>11am – 4pm, 7:30pm – 11:30pm (Mon-Sun)</td>\n",
       "      <td>Thane</td>\n",
       "      <td>Dombivali East</td>\n",
       "      <td>3.6</td>\n",
       "      <td>49 votes</td>\n",
       "      <td>1200</td>\n",
       "    </tr>\n",
       "    <tr>\n",
       "      <th>1</th>\n",
       "      <td>CASUAL DINING,BAR</td>\n",
       "      <td>13198</td>\n",
       "      <td>Asian, Modern Indian, Japanese</td>\n",
       "      <td>6pm – 11pm (Mon-Sun)</td>\n",
       "      <td>Chennai</td>\n",
       "      <td>Ramapuram</td>\n",
       "      <td>4.2</td>\n",
       "      <td>30 votes</td>\n",
       "      <td>1500</td>\n",
       "    </tr>\n",
       "    <tr>\n",
       "      <th>2</th>\n",
       "      <td>CASUAL DINING</td>\n",
       "      <td>10915</td>\n",
       "      <td>North Indian, Chinese, Biryani, Hyderabadi</td>\n",
       "      <td>11am – 3:30pm, 7pm – 11pm (Mon-Sun)</td>\n",
       "      <td>Chennai</td>\n",
       "      <td>Saligramam</td>\n",
       "      <td>3.8</td>\n",
       "      <td>221 votes</td>\n",
       "      <td>800</td>\n",
       "    </tr>\n",
       "    <tr>\n",
       "      <th>3</th>\n",
       "      <td>QUICK BITES</td>\n",
       "      <td>6346</td>\n",
       "      <td>Tibetan, Chinese</td>\n",
       "      <td>11:30am – 1am (Mon-Sun)</td>\n",
       "      <td>Mumbai</td>\n",
       "      <td>Bandra West</td>\n",
       "      <td>4.1</td>\n",
       "      <td>24 votes</td>\n",
       "      <td>800</td>\n",
       "    </tr>\n",
       "    <tr>\n",
       "      <th>4</th>\n",
       "      <td>DESSERT PARLOR</td>\n",
       "      <td>15387</td>\n",
       "      <td>Desserts</td>\n",
       "      <td>11am – 1am (Mon-Sun)</td>\n",
       "      <td>Mumbai</td>\n",
       "      <td>Lower Parel</td>\n",
       "      <td>3.8</td>\n",
       "      <td>165 votes</td>\n",
       "      <td>300</td>\n",
       "    </tr>\n",
       "  </tbody>\n",
       "</table>\n",
       "</div>"
      ],
      "text/plain": [
       "               TITLE  RESTAURANT_ID  \\\n",
       "0      CASUAL DINING           9438   \n",
       "1  CASUAL DINING,BAR          13198   \n",
       "2      CASUAL DINING          10915   \n",
       "3        QUICK BITES           6346   \n",
       "4     DESSERT PARLOR          15387   \n",
       "\n",
       "                                     CUISINES  \\\n",
       "0                 Malwani, Goan, North Indian   \n",
       "1              Asian, Modern Indian, Japanese   \n",
       "2  North Indian, Chinese, Biryani, Hyderabadi   \n",
       "3                            Tibetan, Chinese   \n",
       "4                                    Desserts   \n",
       "\n",
       "                                     TIME     CITY        LOCALITY RATING  \\\n",
       "0  11am – 4pm, 7:30pm – 11:30pm (Mon-Sun)    Thane  Dombivali East    3.6   \n",
       "1                    6pm – 11pm (Mon-Sun)  Chennai       Ramapuram    4.2   \n",
       "2     11am – 3:30pm, 7pm – 11pm (Mon-Sun)  Chennai      Saligramam    3.8   \n",
       "3                 11:30am – 1am (Mon-Sun)   Mumbai     Bandra West    4.1   \n",
       "4                    11am – 1am (Mon-Sun)   Mumbai     Lower Parel    3.8   \n",
       "\n",
       "       VOTES  COST  \n",
       "0   49 votes  1200  \n",
       "1   30 votes  1500  \n",
       "2  221 votes   800  \n",
       "3   24 votes   800  \n",
       "4  165 votes   300  "
      ]
     },
     "execution_count": 161,
     "metadata": {},
     "output_type": "execute_result"
    }
   ],
   "source": [
    "df.head()"
   ]
  },
  {
   "cell_type": "code",
   "execution_count": null,
   "metadata": {},
   "outputs": [],
   "source": []
  },
  {
   "cell_type": "code",
   "execution_count": 162,
   "metadata": {},
   "outputs": [
    {
     "data": {
      "text/plain": [
       "(12690, 9)"
      ]
     },
     "execution_count": 162,
     "metadata": {},
     "output_type": "execute_result"
    }
   ],
   "source": [
    "#checking shape of dataset\n",
    "df.shape"
   ]
  },
  {
   "cell_type": "markdown",
   "metadata": {},
   "source": [
    "The given dataset contains 12690 rows & 9 column"
   ]
  },
  {
   "cell_type": "code",
   "execution_count": 163,
   "metadata": {},
   "outputs": [
    {
     "data": {
      "text/plain": [
       "Index(['TITLE', 'RESTAURANT_ID', 'CUISINES', 'TIME', 'CITY', 'LOCALITY',\n",
       "       'RATING', 'VOTES', 'COST'],\n",
       "      dtype='object')"
      ]
     },
     "execution_count": 163,
     "metadata": {},
     "output_type": "execute_result"
    }
   ],
   "source": [
    "#checking column names\n",
    "df.columns"
   ]
  },
  {
   "cell_type": "code",
   "execution_count": null,
   "metadata": {},
   "outputs": [],
   "source": []
  },
  {
   "cell_type": "markdown",
   "metadata": {},
   "source": [
    "# columns description:"
   ]
  },
  {
   "cell_type": "raw",
   "metadata": {},
   "source": [
    "\n",
    "TITLE: The feature of the restaurant which can help identify what and for whom it is suitable for.\n",
    "\n",
    "RESTAURANT_ID: A unique ID for each restaurant.\n",
    "\n",
    "CUISINES: The variety of cuisines that the restaurant offers.\n",
    "\n",
    "TIME: The open hours of the restaurant.\n",
    "\n",
    "CITY: The city in which the restaurant is located.\n",
    "\n",
    "LOCALITY: The locality of the restaurant.\n",
    "\n",
    "RATING: The average rating of the restaurant by customers.\n",
    "\n",
    "VOTES: The overall votes received by the restaurant.\n",
    "\n",
    "COST: The average cost of a two-person meal.\n",
    "\n"
   ]
  },
  {
   "cell_type": "code",
   "execution_count": 164,
   "metadata": {},
   "outputs": [
    {
     "name": "stdout",
     "output_type": "stream",
     "text": [
      "<class 'pandas.core.frame.DataFrame'>\n",
      "RangeIndex: 12690 entries, 0 to 12689\n",
      "Data columns (total 9 columns):\n",
      " #   Column         Non-Null Count  Dtype \n",
      "---  ------         --------------  ----- \n",
      " 0   TITLE          12690 non-null  object\n",
      " 1   RESTAURANT_ID  12690 non-null  int64 \n",
      " 2   CUISINES       12690 non-null  object\n",
      " 3   TIME           12690 non-null  object\n",
      " 4   CITY           12578 non-null  object\n",
      " 5   LOCALITY       12592 non-null  object\n",
      " 6   RATING         12688 non-null  object\n",
      " 7   VOTES          11486 non-null  object\n",
      " 8   COST           12690 non-null  int64 \n",
      "dtypes: int64(2), object(7)\n",
      "memory usage: 892.4+ KB\n"
     ]
    }
   ],
   "source": [
    "#checking the information of dataset\n",
    "df.info()"
   ]
  },
  {
   "cell_type": "code",
   "execution_count": 165,
   "metadata": {},
   "outputs": [
    {
     "data": {
      "text/plain": [
       "TITLE            object\n",
       "RESTAURANT_ID     int64\n",
       "CUISINES         object\n",
       "TIME             object\n",
       "CITY             object\n",
       "LOCALITY         object\n",
       "RATING           object\n",
       "VOTES            object\n",
       "COST              int64\n",
       "dtype: object"
      ]
     },
     "execution_count": 165,
     "metadata": {},
     "output_type": "execute_result"
    }
   ],
   "source": [
    "#checking the datatype\n",
    "df.dtypes"
   ]
  },
  {
   "cell_type": "markdown",
   "metadata": {},
   "source": [
    "OBSERVATION:"
   ]
  },
  {
   "cell_type": "markdown",
   "metadata": {},
   "source": [
    "1.All the columns are of object datatype except RESTAURANT_ID & COST"
   ]
  },
  {
   "cell_type": "markdown",
   "metadata": {},
   "source": [
    "2.RESTAURANT_ID & COST are of int64 datatype"
   ]
  },
  {
   "cell_type": "code",
   "execution_count": null,
   "metadata": {},
   "outputs": [],
   "source": []
  },
  {
   "cell_type": "code",
   "execution_count": 166,
   "metadata": {},
   "outputs": [
    {
     "data": {
      "text/plain": [
       "True"
      ]
     },
     "execution_count": 166,
     "metadata": {},
     "output_type": "execute_result"
    }
   ],
   "source": [
    "#checking for null values\n",
    "df.isnull().values.any()"
   ]
  },
  {
   "cell_type": "markdown",
   "metadata": {},
   "source": [
    "It means that null values are present in our dataset"
   ]
  },
  {
   "cell_type": "code",
   "execution_count": 167,
   "metadata": {},
   "outputs": [
    {
     "data": {
      "text/plain": [
       "TITLE               0\n",
       "RESTAURANT_ID       0\n",
       "CUISINES            0\n",
       "TIME                0\n",
       "CITY              112\n",
       "LOCALITY           98\n",
       "RATING              2\n",
       "VOTES            1204\n",
       "COST                0\n",
       "dtype: int64"
      ]
     },
     "execution_count": 167,
     "metadata": {},
     "output_type": "execute_result"
    }
   ],
   "source": [
    "#checking for null values in each column\n",
    "df.isnull().sum()"
   ]
  },
  {
   "cell_type": "markdown",
   "metadata": {},
   "source": [
    "Observation:"
   ]
  },
  {
   "cell_type": "markdown",
   "metadata": {},
   "source": [
    "1. 112 null values are present in City column"
   ]
  },
  {
   "cell_type": "markdown",
   "metadata": {},
   "source": [
    "2. 98 null values are present in locality column"
   ]
  },
  {
   "cell_type": "markdown",
   "metadata": {},
   "source": [
    "3. 2 null values are present in Ratings column"
   ]
  },
  {
   "cell_type": "markdown",
   "metadata": {},
   "source": [
    "\n",
    "4. 1204 null values are present in votes column"
   ]
  },
  {
   "cell_type": "markdown",
   "metadata": {},
   "source": [
    "we can also see it via visualization with the help of heatmap"
   ]
  },
  {
   "cell_type": "code",
   "execution_count": 168,
   "metadata": {},
   "outputs": [
    {
     "data": {
      "text/plain": [
       "<matplotlib.axes._subplots.AxesSubplot at 0x1d9493c83a0>"
      ]
     },
     "execution_count": 168,
     "metadata": {},
     "output_type": "execute_result"
    },
    {
     "data": {
      "image/png": "[encoded data removed]",
      "text/plain": [
       "<Figure size 432x288 with 2 Axes>"
      ]
     },
     "metadata": {
      "needs_background": "light"
     },
     "output_type": "display_data"
    }
   ],
   "source": [
    "#visualization\n",
    "sns.heatmap(df.isnull())"
   ]
  },
  {
   "cell_type": "code",
   "execution_count": null,
   "metadata": {},
   "outputs": [],
   "source": []
  },
  {
   "cell_type": "code",
   "execution_count": 169,
   "metadata": {},
   "outputs": [],
   "source": [
    "#imputing the missing values with mode\n",
    "\n",
    "for col in ['CITY','LOCALITY','RATING','VOTES']:\n",
    "    df[col].fillna(df[col].mode()[0],inplace=True)"
   ]
  },
  {
   "cell_type": "code",
   "execution_count": 170,
   "metadata": {},
   "outputs": [
    {
     "data": {
      "text/plain": [
       "False"
      ]
     },
     "execution_count": 170,
     "metadata": {},
     "output_type": "execute_result"
    }
   ],
   "source": [
    "#now again checking for missing values\n",
    "\n",
    "df.isnull().values.any()"
   ]
  },
  {
   "cell_type": "markdown",
   "metadata": {},
   "source": [
    "Now our null values is removed.We can see it via visualisation"
   ]
  },
  {
   "cell_type": "code",
   "execution_count": 171,
   "metadata": {},
   "outputs": [
    {
     "data": {
      "text/plain": [
       "<matplotlib.axes._subplots.AxesSubplot at 0x1d947a73e80>"
      ]
     },
     "execution_count": 171,
     "metadata": {},
     "output_type": "execute_result"
    },
    {
     "data": {
      "image/png": "[encoded data removed]",
      "text/plain": [
       "<Figure size 432x288 with 1 Axes>"
      ]
     },
     "metadata": {
      "needs_background": "light"
     },
     "output_type": "display_data"
    }
   ],
   "source": [
    "sns.heatmap(df.isnull(),yticklabels=False,cbar=False,cmap='tab20')"
   ]
  },
  {
   "cell_type": "markdown",
   "metadata": {},
   "source": [
    "# Summary Statistics"
   ]
  },
  {
   "cell_type": "code",
   "execution_count": 172,
   "metadata": {},
   "outputs": [
    {
     "data": {
      "text/html": [
       "<div>\n",
       "<style scoped>\n",
       "    .dataframe tbody tr th:only-of-type {\n",
       "        vertical-align: middle;\n",
       "    }\n",
       "\n",
       "    .dataframe tbody tr th {\n",
       "        vertical-align: top;\n",
       "    }\n",
       "\n",
       "    .dataframe thead th {\n",
       "        text-align: right;\n",
       "    }\n",
       "</style>\n",
       "<table border=\"1\" class=\"dataframe\">\n",
       "  <thead>\n",
       "    <tr style=\"text-align: right;\">\n",
       "      <th></th>\n",
       "      <th>RESTAURANT_ID</th>\n",
       "      <th>COST</th>\n",
       "    </tr>\n",
       "  </thead>\n",
       "  <tbody>\n",
       "    <tr>\n",
       "      <th>count</th>\n",
       "      <td>12690.000000</td>\n",
       "      <td>12690.000000</td>\n",
       "    </tr>\n",
       "    <tr>\n",
       "      <th>mean</th>\n",
       "      <td>7759.134121</td>\n",
       "      <td>655.252246</td>\n",
       "    </tr>\n",
       "    <tr>\n",
       "      <th>std</th>\n",
       "      <td>4504.874150</td>\n",
       "      <td>627.003540</td>\n",
       "    </tr>\n",
       "    <tr>\n",
       "      <th>min</th>\n",
       "      <td>0.000000</td>\n",
       "      <td>20.000000</td>\n",
       "    </tr>\n",
       "    <tr>\n",
       "      <th>25%</th>\n",
       "      <td>3863.250000</td>\n",
       "      <td>300.000000</td>\n",
       "    </tr>\n",
       "    <tr>\n",
       "      <th>50%</th>\n",
       "      <td>7740.000000</td>\n",
       "      <td>500.000000</td>\n",
       "    </tr>\n",
       "    <tr>\n",
       "      <th>75%</th>\n",
       "      <td>11688.750000</td>\n",
       "      <td>800.000000</td>\n",
       "    </tr>\n",
       "    <tr>\n",
       "      <th>max</th>\n",
       "      <td>15573.000000</td>\n",
       "      <td>14000.000000</td>\n",
       "    </tr>\n",
       "  </tbody>\n",
       "</table>\n",
       "</div>"
      ],
      "text/plain": [
       "       RESTAURANT_ID          COST\n",
       "count   12690.000000  12690.000000\n",
       "mean     7759.134121    655.252246\n",
       "std      4504.874150    627.003540\n",
       "min         0.000000     20.000000\n",
       "25%      3863.250000    300.000000\n",
       "50%      7740.000000    500.000000\n",
       "75%     11688.750000    800.000000\n",
       "max     15573.000000  14000.000000"
      ]
     },
     "execution_count": 172,
     "metadata": {},
     "output_type": "execute_result"
    }
   ],
   "source": [
    "df.describe()"
   ]
  },
  {
   "cell_type": "markdown",
   "metadata": {},
   "source": [
    "OBSERVATION:"
   ]
  },
  {
   "cell_type": "markdown",
   "metadata": {},
   "source": [
    "1.Minimum cost is 20 rs & maximum cost is 14000"
   ]
  },
  {
   "cell_type": "markdown",
   "metadata": {},
   "source": [
    "2.Mean is greater than median ,which means COST column is right skewed"
   ]
  },
  {
   "cell_type": "markdown",
   "metadata": {},
   "source": [
    "# Exploring Data Variables"
   ]
  },
  {
   "cell_type": "code",
   "execution_count": 173,
   "metadata": {},
   "outputs": [
    {
     "name": "stdout",
     "output_type": "stream",
     "text": [
      "TITLE:['CASUAL DINING' 'CASUAL DINING,BAR' 'QUICK BITES' 'DESSERT PARLOR' 'CAFÉ'\n",
      " 'MICROBREWERY' 'QUICK BITES,BEVERAGE SHOP' 'CASUAL DINING,IRANI CAFE'\n",
      " 'BAKERY,QUICK BITES' 'None' 'BAR,CASUAL DINING' 'BAR' 'PUB'\n",
      " 'BEVERAGE SHOP' 'FINE DINING' 'CAFÉ,QUICK BITES'\n",
      " 'BEVERAGE SHOP,DESSERT PARLOR' 'SWEET SHOP,QUICK BITES'\n",
      " 'DESSERT PARLOR,SWEET SHOP' 'BAKERY' 'BAKERY,DESSERT PARLOR' 'BAR,LOUNGE'\n",
      " 'FOOD COURT' 'LOUNGE' 'DESSERT PARLOR,BEVERAGE SHOP'\n",
      " 'LOUNGE,CASUAL DINING' 'FOOD TRUCK' 'QUICK BITES,FOOD COURT' 'SWEET SHOP'\n",
      " 'BEVERAGE SHOP,FOOD COURT' 'PUB,CASUAL DINING' 'MESS'\n",
      " 'MICROBREWERY,CASUAL DINING' 'CASUAL DINING,SWEET SHOP' 'KIOSK'\n",
      " 'QUICK BITES,KIOSK' 'CLUB' 'FINE DINING,BAR' 'DESSERT PARLOR,QUICK BITES'\n",
      " 'FOOD COURT,QUICK BITES' 'LOUNGE,CAFÉ' 'BAKERY,CONFECTIONERY'\n",
      " 'CASUAL DINING,CAFÉ' 'DHABA' 'CAFÉ,DESSERT PARLOR'\n",
      " 'QUICK BITES,DESSERT PARLOR' 'PUB,MICROBREWERY' 'LOUNGE,BAR'\n",
      " 'DESSERT PARLOR,CAFÉ' 'CAFÉ,BAR' 'SWEET SHOP,CONFECTIONERY'\n",
      " 'CASUAL DINING,PUB' 'MICROBREWERY,BAR' 'DESSERT PARLOR,BAKERY'\n",
      " 'QUICK BITES,SWEET SHOP' 'BEVERAGE SHOP,QUICK BITES'\n",
      " 'CASUAL DINING,LOUNGE' 'CASUAL DINING,CLUB' 'QUICK BITES,CAFÉ' 'BAR,CAFÉ'\n",
      " 'CAFÉ,CASUAL DINING' 'QUICK BITES,CASUAL DINING'\n",
      " 'CASUAL DINING,MICROBREWERY' 'CASUAL DINING,BAKERY' 'CAFÉ,BAKERY'\n",
      " 'MEAT SHOP' 'QUICK BITES,BAKERY' 'BAR,FINE DINING'\n",
      " 'SWEET SHOP,CASUAL DINING' 'MEAT SHOP,QUICK BITES' 'PUB,LOUNGE'\n",
      " 'BAKERY,CAFÉ' 'COCKTAIL BAR' 'FINE DINING,LOUNGE' 'CONFECTIONERY'\n",
      " 'QUICK BITES,BAR' 'BAKERY,FOOD COURT' 'PUB,BAR'\n",
      " 'DESSERT PARLOR,FOOD COURT' 'QUICK BITES,FOOD TRUCK'\n",
      " 'BAKERY,BEVERAGE SHOP' 'CLUB,BAR' 'BAKERY,SWEET SHOP' 'SWEET SHOP,BAKERY'\n",
      " 'CASUAL DINING,FOOD COURT' 'PAAN SHOP' 'BEVERAGE SHOP,CAFÉ'\n",
      " 'FOOD COURT,DESSERT PARLOR' 'CLUB,MICROBREWERY' 'CAFÉ,BEVERAGE SHOP'\n",
      " 'DESSERT PARLOR,PAAN SHOP' 'MICROBREWERY,LOUNGE' 'LOUNGE,CLUB'\n",
      " 'SWEET SHOP,DESSERT PARLOR' 'BAR,PUB' 'CONFECTIONERY,QUICK BITES'\n",
      " 'DESSERT PARLOR,KIOSK' 'LOUNGE,PUB' 'SWEET SHOP,BEVERAGE SHOP'\n",
      " 'FINE DINING,CAFÉ' 'BEVERAGE SHOP,CASUAL DINING' 'KIOSK,QUICK BITES'\n",
      " 'CASUAL DINING,DESSERT PARLOR' 'LOUNGE,FINE DINING' 'PUB,CAFÉ'\n",
      " 'CAFÉ,LOUNGE' 'BAR,CLUB' 'COCKTAIL BAR,CASUAL DINING' 'MICROBREWERY,PUB'\n",
      " 'CAFÉ,FINE DINING' 'KIOSK,FOOD COURT' 'LOUNGE,MICROBREWERY'\n",
      " 'BAR,MICROBREWERY']\n",
      "QUICK BITES                 4218\n",
      "CASUAL DINING               3652\n",
      "None                        1003\n",
      "CAFÉ                         607\n",
      "DESSERT PARLOR               382\n",
      "                            ... \n",
      "LOUNGE,FINE DINING             1\n",
      "DESSERT PARLOR,PAAN SHOP       1\n",
      "KIOSK,FOOD COURT               1\n",
      "BEVERAGE SHOP,FOOD COURT       1\n",
      "BAKERY,CONFECTIONERY           1\n",
      "Name: TITLE, Length: 113, dtype: int64\n",
      "******************************************************************************\n",
      "\n",
      "\n",
      "CUISINES:['Malwani, Goan, North Indian' 'Asian, Modern Indian, Japanese'\n",
      " 'North Indian, Chinese, Biryani, Hyderabadi' ...\n",
      " 'North Indian, Burger, Kebab' 'Goan, Continental'\n",
      " 'Finger Food, Continental, Asian, Chinese']\n",
      "South Indian                                        532\n",
      "North Indian                                        526\n",
      "North Indian, Chinese                               501\n",
      "Fast Food                                           286\n",
      "Chinese                                             167\n",
      "                                                   ... \n",
      "Fast Food, Momos, Rolls, North Indian                 1\n",
      "Continental, North Indian, Chinese, Healthy Food      1\n",
      "Konkan, Kerala                                        1\n",
      "Asian, Momos                                          1\n",
      "North Indian, Continental, Chinese, Thai              1\n",
      "Name: CUISINES, Length: 4155, dtype: int64\n",
      "******************************************************************************\n",
      "\n",
      "\n",
      "TIME:['11am – 4pm, 7:30pm – 11:30pm (Mon-Sun)' '6pm – 11pm (Mon-Sun)'\n",
      " '11am – 3:30pm, 7pm – 11pm (Mon-Sun)' ... '12:1pm – 4am (Mon-Sun)'\n",
      " '12:30pm – 9:45pm (Mon-Sun)'\n",
      " '12noon – 1am (Mon-Fri),11am – 5pm, 7pm – 1am...']\n",
      "11am – 11pm (Mon-Sun)                              1415\n",
      "12noon – 12midnight (Mon-Sun)                       469\n",
      "12noon – 11pm (Mon-Sun)                             407\n",
      "11am – 12midnight (Mon-Sun)                         310\n",
      "10am – 10pm (Mon-Sun)                               221\n",
      "                                                   ... \n",
      "12noon – 3:30pm, 7pm – 4am (Mon-Sun)                  1\n",
      "6am – 10am, 5pm – 10pm (Mon-Sun)                      1\n",
      "9am – 3:30pm, 6:30pm – 11pm (Mon-Sun)                 1\n",
      "1pm – 10pm (Mon),8:30am – 10pm (Tue-Sun)              1\n",
      "12noon – 3pm, 7pm – 11pm (Mon, Tue, Thu, Fri...       1\n",
      "Name: TIME, Length: 2689, dtype: int64\n",
      "******************************************************************************\n",
      "\n",
      "\n",
      "CITY:['Thane' 'Chennai' 'Mumbai' 'Bangalore' 'Gurgaon' 'Hyderabad' 'Kochi'\n",
      " 'Thane West' 'Andheri Lokhandwala' 'New Delhi' 'Andheri West'\n",
      " 'Malad East' '682036' 'Bangalor' 'Navi Mumbai' 'Bandra West' 'Delhi'\n",
      " 'Noida' 'Bangalore-560066' 'Secunderabad' 'India' 'Madhuranagar'\n",
      " 'Chennai Teynampet' 'Faridabad' 'Chembur.' 'Maharashtra'\n",
      " 'opp gurudwara Shakurpur' 'Telagana Land Line:040-48507016' 'Ghaziabad'\n",
      " 'Karnataka' 'Kerala' 'Edappally' 'Kadavanthra' 'Ernakulam Circle kochi'\n",
      " 'Bengalore' 'Near Reliance Fresh' 'Kilpauk' 'Bengaluru' 'Kothaguda'\n",
      " 'Goregaon West' 'Banglore' 'Tamil Nadu' 'Kakkanad' 'Kochi Elamkulam'\n",
      " 'Outer Ring Road' 'Mulund East'\n",
      " 'Secunderabad main road near signal NMREC COLLEGE' 'Telangana'\n",
      " 'Ponnuruni Kochi' 'Gachibowli' 'Semmancheri'\n",
      " '5th Main Teachers Colony Koramangala Block 1 Bangalore 560034'\n",
      " 'Mumbai Mahim' 'Powai (Next to Powai Plaza)' 'Dombivali East'\n",
      " 'Kochi Vyttila' 'Kandivali' 'Kochi Palarivattom' 'Dewan Rama Road'\n",
      " 'Gurugram' 'Sector 51 Noida' 'Kaloor' 'Besant Nagar'\n",
      " 'Arumbakkam chennai-600106.' 'Adjacent To Commercial Street' 'Delhi NCR'\n",
      " 'Dwarka' '682035.' 'Kalyan West' 'Avadi' 'Kondapur' 'Mehdipatnam'\n",
      " 'Gandipet' 'Velachery' 'Pallavaram' 'Vijaya Nagar' 'BTM Layout'\n",
      " 'Chennai 600034.'\n",
      " 'Metro Pillar No 21. Mettuguda main road near railway degree college.'\n",
      " 'Chennai - 600040' 'JP Nagar Bangalore' 'Madhapur' 'Ernakulam' 'Sarjapur'\n",
      " 'Whitefield Bangalore' 'Kochi Chullickal' 'Kochi-683101'\n",
      " 'Bangalore - 560076' 'Rohini' 'Hyderabad Behind Vacs Pastries'\n",
      " 'Hyderabad neerus emporium.' 'Navi Mumbai.' 'Karol Bagh' 'Perungudi'\n",
      " 'Thykoodam' 'Greater Noida' 'Bangalore.' 'Khairatabad' 'chullickal'\n",
      " 'Grant Road West' 'Hitech City' 'West Maredpally' 'Mumbai - 400007'\n",
      " 'Chennai Padur' 'Chander Nagar New Delhi' 'Nedumbassery' 'MG Road'\n",
      " 'Naya Nagar Mira Road' 'Pitampura' 'Lower Parel' 'HBR Layout'\n",
      " 'Telangana 500003' 'Rajiv gandhi Nagar' 'New Delhi.' 'Medavakkam'\n",
      " 'Sathya Nagar' 'p.o Kochi' 'Behind Ramalayam Temple' 'Palarivattom'\n",
      " 'Brigade Road' 'Mumbai.' 'Mumbai Andheri East' 'Virar West' 'B-1 Stage'\n",
      " 'Chennai Kovalam' 'Hyderabad.' 'Aluva' 'Telangana 500034'\n",
      " 'IOB Bank Kamala Nagar' 'HSR Layout' 'Marine Drive' 'DLF Galleria'\n",
      " 'Nallathambi Main Road' 'Chennai opp: Vasanth & co' 'Citypark'\n",
      " 'Karnataka 560103' 'Bhayandar' 'Aluva Circle' 'Thammenahalli Village'\n",
      " 'SG Palya' 'Attapur.' 'Near Shangrilla Bus Stop' 'Khar (west)' 'Road 3'\n",
      " 'Kukatpally' 'Faridabd' 'Telangana 500032' 'Dilsukhnagar'\n",
      " 'Mogappair. Chennai' 'Near Munrshwara Temple' 'Off Brigade Road'\n",
      " 'khar west' 'Potheri' 'Chennai Perungudi' 'Chennai Thuraipakkam'\n",
      " 'OMR Karapakkam' 'Hyderabad-500032' 'Mumbai Dombivali East'\n",
      " 'Chennai Thousand Lights' 'Mahim' 'Lingampally' 'Powai'\n",
      " 'New Delhi-110024' 'Chennai- 600107' 'Kerala 683104' 'Vasai West.'\n",
      " 'Thane (W)' 'Near Santosh Banjara Hyderabad'\n",
      " 'Banaswadi (Next to Indian Bank) Bangalore' 'BTM Bangalore'\n",
      " 'Greater Kailash 2 New Delhi' 'Secunderabad ECIL'\n",
      " 'Bangalore Koramangala 7th Block' 'bangalore : 560085' 'navi mumbai'\n",
      " 'Gachibowli Hyderabad'\n",
      " 'CPR layout harlur main road opposite to ozone ever green apartment Bangalore -'\n",
      " 'ECR NEELANKARAI Chennai 600115' 'ward X11' 'kochi' 'Perumbavoor'\n",
      " 'Mira raod east' 'Kerala 682013' 'Chennai.' 'Pokhran Road 2'\n",
      " 'Uttar Pradesh' 'Karnataka 560102' 'Mumbai - 400013' 'Naharpar'\n",
      " 'Hosur Road' 'Near Bharat Petroleum.'\n",
      " 'Chennai (Bang Opposite Indian Bank)' 'Sriram nagar' 'West Mumbai'\n",
      " 'Vyttila' 'Banjara Hills' 'MALAPALLIPURAM P .O THRISSUR'\n",
      " 'Andheri west Mumbai' 'Karnataka 560043' 'Panampilly Nagar' 'hyderabad'\n",
      " 'Borivali East.' 'ECIL' 'Jubilee Hills'\n",
      " 'Amrit kaur market opposite new delhi railway station paharganj'\n",
      " 'Chennai Opposite 5C Bus stand' 'Telengana' 'Kochi Ravipuram' 'Rajanpada'\n",
      " 'Mahabalipuram' 'Secunderabad. WE HAVE NO BRANCHES.' 'Telangana 500081'\n",
      " 'Gurgoan' 'Elamakkara' 'Sector 1' 'Bandra W' 'Kolathur'\n",
      " 'Chennai Mahabalipuram' '3rd Street' 'Mumbai Chakala' 'Borivali West'\n",
      " 'Rodeo Drive Sector 49' 'Pallimukku' 'Delhi 110085' 'Sector 51'\n",
      " 'Champapet' 'Andavar Nagar' 'Bangalore - 560103' 'Kerala 690525'\n",
      " 'opp mukteshwar ashram powai' 'Nungambakkam' 'BK Guda'\n",
      " 'Jogeshwari (w) Mumbai' 'Kukatapally' 'Near Sector 110 Noida' 'Navallur'\n",
      " 'Beside Excellency Gardens' 'Mumbai - 80' 'Begumpet'\n",
      " 'Maharaja Hotel Beside Gardania Bar' 'Ashok Vihar Phase 1' 'Trivandrum'\n",
      " 'Kochi-18' 'Narayanguda' 'Thevera' 'Chennai-40' 'Palm Beach Road'\n",
      " 'East Coast Road (ECR)' 'Ramapuram' 'Chennai Chrompet' 'Nandanam' 'Saket'\n",
      " 'MG Road Ernakulam' 'Andheri Lokhandwala.' 'Indiranagar' 'Thiruvanmiyur'\n",
      " 'Ambattur' 'Banglaore' 'Chennai - 34 Landmark - Near Loyola College'\n",
      " 'Anna Nagar West' 'Old Railway Road' 'East Mumbai'\n",
      " 'Kanakapura Road Banglore' 'Kochi Kakkanad' 'Kalyan'\n",
      " 'Near Ramlila Ground' 'Serilingampally' 'Himayath Nagar' 'Nallala Street'\n",
      " 'Anna Salai' 'Old Delhi' 'Wagle Estate' '1st Stage' 'Kochi-16'\n",
      " 'Kochi International Airport VIP Road' 'First Street' 'Chenn ai'\n",
      " '6 & 7 - 4/64 Subhash Nagar' '1st Tavarekere' 'Perambur'\n",
      " 'Vaishali Ghaziabad' 'Thanisandra' 'Block F' 'Sector 7 Dwarka'\n",
      " 'Opposite Barathi Gas Company' 'Vadapalani' 'Kondapur.' 'Badlapur West.'\n",
      " 'Kalamassery' 'Palavakkam' 'TCS Synergy park' 'BTM 1st Stage'\n",
      " 'Mahadevpura' 'NEW BEL ROAD 560054'\n",
      " 'Veliaveetil house Vivekananda Nagar Elamakkara' 'Sholinganallur'\n",
      " 'Maharashtra 400102' 'Lower Parel West' 'Tripunithura' 'Mogappair'\n",
      " 'Telangana 500070' 'JP Nagar' 'Navi-Mumbai' 'Ashok Nagar' 'Marathahalli'\n",
      " 'Haridwar Apartments' 'Kerala 682001 India' 'Karnataka 560037'\n",
      " 'Kerala 683585' 'Chennai. (Near Hotel Matshya)' 'Indirapuram'\n",
      " 'Begumpet Hyderabad' 'Manikonda'\n",
      " 'Bangalore land mark above mahaveer hard ware' 'Kerala 682304'\n",
      " 'Rajarajeshwari Nagar bangalore' 'GST Road' 'Fort Kochi'\n",
      " 'Lahari Apartments' 'Ramanthapur' 'Mulund west' 'Gurgaon Haryana India'\n",
      " 'New Delhi..Near by SBI bank' 'Kochi Aluva 102' 'Phase 1 Bangalore'\n",
      " 'Hyderabad Manikonda'\n",
      " 'Mumbai This is a Delivery & Take-away Restaurant only.' '10th avenue'\n",
      " 'Uppal' 'New Delhi 110075' 'Nizampet' 'Ulsoo' 'Bangalore 560076'\n",
      " 'PVR plaza cinema building Connaught Place' 'Gurgaon Haryana' 'Chromepet'\n",
      " 'Kerala 682024' 'Janakpuri' 'Secunderabad.' 'chennai'\n",
      " 'B.B.M.P East (Karnataka) - 560049' 'Tambaram' 'Malleshwaram Bangalore'\n",
      " 'Vadapalani.' 'Dist. Center New Delhi' 'Bangalore Road' 'aluva circle'\n",
      " 'Kochi.' 'Thane Mumbai' 'Kadubesanahalli Bangalore' 'Vasai west'\n",
      " 'Mig Housing Society' 'Haryana' 'Borivali West.' 'Golf Course Road'\n",
      " 'Khar Mumbai' 'Near Jyothinivas College' 'Anna Nagar East' 'Masab Tank']\n",
      "Chennai                  2286\n",
      "Bangalore                2149\n",
      "Hyderabad                1819\n",
      "Mumbai                   1722\n",
      "New Delhi                1321\n",
      "                         ... \n",
      "Wagle Estate                1\n",
      "Borivali East.              1\n",
      "Andheri west Mumbai         1\n",
      "Rodeo Drive Sector 49       1\n",
      "Brigade Road                1\n",
      "Name: CITY, Length: 359, dtype: int64\n",
      "******************************************************************************\n",
      "\n",
      "\n",
      "LOCALITY:['Dombivali East' 'Ramapuram' 'Saligramam' ... 'Market Road'\n",
      " 'Near Perambur' 'Near Malviya Nagar']\n",
      "Gachibowli                        264\n",
      "Indiranagar                       138\n",
      "Edappally                         122\n",
      "Kakkanad                          121\n",
      "HSR                               120\n",
      "                                 ... \n",
      "D block                             1\n",
      "Rashanth Nagar Colony Kondapur      1\n",
      "Delhi NCR                           1\n",
      "28/7 East Patel Nagar               1\n",
      "Old Bowenpally                      1\n",
      "Name: LOCALITY, Length: 1416, dtype: int64\n",
      "******************************************************************************\n",
      "\n",
      "\n",
      "RATING:['3.6' '4.2' '3.8' '4.1' '4.0' '4.3' '3.9' '3.3' '3.4' '-' '4.5' '3.5'\n",
      " '4.4' '2.7' '3.7' '4.7' 'NEW' '3.1' '2.5' '4.6' '2.8' '3.0' '3.2' '2.6'\n",
      " '2.9' '4.9' '4.8' '2.4' '2.3' '2.0' '2.1' '2.2']\n",
      "3.9    1240\n",
      "3.8    1190\n",
      "4.0    1099\n",
      "3.7    1086\n",
      "3.6     951\n",
      "4.1     936\n",
      "3.5     771\n",
      "4.2     723\n",
      "NEW     707\n",
      "3.4     575\n",
      "4.3     556\n",
      "-       495\n",
      "3.3     365\n",
      "4.4     362\n",
      "3.2     266\n",
      "4.5     199\n",
      "2.9     186\n",
      "3.1     186\n",
      "3.0     170\n",
      "2.8     146\n",
      "4.6     141\n",
      "2.7      89\n",
      "4.7      69\n",
      "2.6      61\n",
      "2.5      35\n",
      "4.8      32\n",
      "4.9      22\n",
      "2.4      15\n",
      "2.3      10\n",
      "2.1       3\n",
      "2.0       2\n",
      "2.2       2\n",
      "Name: RATING, dtype: int64\n",
      "******************************************************************************\n",
      "\n",
      "\n",
      "VOTES:['49 votes' '30 votes' '221 votes' ... '2723 votes' '1426 votes'\n",
      " '1214 votes']\n",
      "44 votes      1275\n",
      "28 votes        66\n",
      "29 votes        66\n",
      "38 votes        65\n",
      "35 votes        64\n",
      "              ... \n",
      "2620 votes       1\n",
      "902 votes        1\n",
      "1007 votes       1\n",
      "3150 votes       1\n",
      "1544 votes       1\n",
      "Name: VOTES, Length: 1847, dtype: int64\n",
      "******************************************************************************\n",
      "\n",
      "\n"
     ]
    }
   ],
   "source": [
    "#printing objects datatypes & their unique values\n",
    "\n",
    "for col in df.columns:\n",
    "    if df[col].dtype==object:\n",
    "        print(str(col) +':'+str(df[col].unique()))\n",
    "        print(df[col].value_counts())\n",
    "        print('******************************************************************************')\n",
    "        print('\\n')"
   ]
  },
  {
   "cell_type": "markdown",
   "metadata": {},
   "source": [
    "Here we see the summary of categorical column"
   ]
  },
  {
   "cell_type": "code",
   "execution_count": 174,
   "metadata": {},
   "outputs": [
    {
     "data": {
      "text/plain": [
       "11892"
      ]
     },
     "execution_count": 174,
     "metadata": {},
     "output_type": "execute_result"
    }
   ],
   "source": [
    "df['RESTAURANT_ID'].nunique()"
   ]
  },
  {
   "cell_type": "markdown",
   "metadata": {},
   "source": [
    "Here all values of RESTAURANT_ID's are unique so I am deleting this column"
   ]
  },
  {
   "cell_type": "code",
   "execution_count": null,
   "metadata": {},
   "outputs": [],
   "source": []
  },
  {
   "cell_type": "code",
   "execution_count": 175,
   "metadata": {},
   "outputs": [],
   "source": [
    "df.drop('RESTAURANT_ID',axis=1,inplace=True)"
   ]
  },
  {
   "cell_type": "code",
   "execution_count": 176,
   "metadata": {},
   "outputs": [
    {
     "data": {
      "text/plain": [
       "array(['11am – 4pm, 7:30pm – 11:30pm (Mon-Sun)', '6pm – 11pm (Mon-Sun)',\n",
       "       '11am – 3:30pm, 7pm – 11pm (Mon-Sun)', ...,\n",
       "       '12:1pm – 4am (Mon-Sun)', '12:30pm – 9:45pm (Mon-Sun)',\n",
       "       '12noon – 1am (Mon-Fri),11am – 5pm, 7pm – 1am...'], dtype=object)"
      ]
     },
     "execution_count": 176,
     "metadata": {},
     "output_type": "execute_result"
    }
   ],
   "source": [
    "df['TIME'].unique()"
   ]
  },
  {
   "cell_type": "markdown",
   "metadata": {},
   "source": [
    "Here Time has many unique values and it will not depend upon Price so I am deleting this column"
   ]
  },
  {
   "cell_type": "code",
   "execution_count": 177,
   "metadata": {},
   "outputs": [],
   "source": [
    "df.drop('TIME',axis=1,inplace=True)"
   ]
  },
  {
   "cell_type": "code",
   "execution_count": 178,
   "metadata": {
    "scrolled": true
   },
   "outputs": [
    {
     "data": {
      "text/plain": [
       "array(['3.6', '4.2', '3.8', '4.1', '4.0', '4.3', '3.9', '3.3', '3.4', '-',\n",
       "       '4.5', '3.5', '4.4', '2.7', '3.7', '4.7', 'NEW', '3.1', '2.5',\n",
       "       '4.6', '2.8', '3.0', '3.2', '2.6', '2.9', '4.9', '4.8', '2.4',\n",
       "       '2.3', '2.0', '2.1', '2.2'], dtype=object)"
      ]
     },
     "execution_count": 178,
     "metadata": {},
     "output_type": "execute_result"
    }
   ],
   "source": [
    "df['RATING'].unique()"
   ]
  },
  {
   "cell_type": "code",
   "execution_count": 179,
   "metadata": {},
   "outputs": [
    {
     "data": {
      "text/plain": [
       "0    3.9\n",
       "dtype: object"
      ]
     },
     "execution_count": 179,
     "metadata": {},
     "output_type": "execute_result"
    }
   ],
   "source": [
    "df['RATING'].mode()"
   ]
  },
  {
   "cell_type": "code",
   "execution_count": null,
   "metadata": {},
   "outputs": [],
   "source": []
  },
  {
   "cell_type": "code",
   "execution_count": 180,
   "metadata": {},
   "outputs": [],
   "source": [
    "df.replace({'NEW': 3.9, '-': 3.9},inplace=True)"
   ]
  },
  {
   "cell_type": "code",
   "execution_count": 181,
   "metadata": {},
   "outputs": [
    {
     "data": {
      "text/plain": [
       "array(['49 votes', '30 votes', '221 votes', ..., '2723 votes',\n",
       "       '1426 votes', '1214 votes'], dtype=object)"
      ]
     },
     "execution_count": 181,
     "metadata": {},
     "output_type": "execute_result"
    }
   ],
   "source": [
    "df['VOTES'].unique()"
   ]
  },
  {
   "cell_type": "code",
   "execution_count": null,
   "metadata": {},
   "outputs": [],
   "source": []
  },
  {
   "cell_type": "code",
   "execution_count": 182,
   "metadata": {},
   "outputs": [],
   "source": [
    "df['VOTES'] = df['VOTES'].str.replace(' votes', '').astype(float)"
   ]
  },
  {
   "cell_type": "code",
   "execution_count": 183,
   "metadata": {},
   "outputs": [
    {
     "data": {
      "text/plain": [
       "44.0      1275\n",
       "29.0        66\n",
       "28.0        66\n",
       "38.0        65\n",
       "35.0        64\n",
       "          ... \n",
       "4801.0       1\n",
       "2923.0       1\n",
       "1273.0       1\n",
       "5227.0       1\n",
       "1654.0       1\n",
       "Name: VOTES, Length: 1847, dtype: int64"
      ]
     },
     "execution_count": 183,
     "metadata": {},
     "output_type": "execute_result"
    }
   ],
   "source": [
    "df['VOTES'].value_counts()"
   ]
  },
  {
   "cell_type": "code",
   "execution_count": 184,
   "metadata": {},
   "outputs": [
    {
     "data": {
      "text/plain": [
       "array([  49.,   30.,  221., ..., 2723., 1426., 1214.])"
      ]
     },
     "execution_count": 184,
     "metadata": {},
     "output_type": "execute_result"
    }
   ],
   "source": [
    "df['VOTES'].unique()"
   ]
  },
  {
   "cell_type": "code",
   "execution_count": 185,
   "metadata": {},
   "outputs": [
    {
     "data": {
      "text/plain": [
       "Index(['TITLE', 'CUISINES', 'CITY', 'LOCALITY', 'RATING', 'VOTES', 'COST'], dtype='object')"
      ]
     },
     "execution_count": 185,
     "metadata": {},
     "output_type": "execute_result"
    }
   ],
   "source": [
    "df.columns"
   ]
  },
  {
   "cell_type": "code",
   "execution_count": 186,
   "metadata": {},
   "outputs": [
    {
     "data": {
      "text/plain": [
       "0                   Malwani, Goan, North Indian\n",
       "1                Asian, Modern Indian, Japanese\n",
       "2    North Indian, Chinese, Biryani, Hyderabadi\n",
       "3                              Tibetan, Chinese\n",
       "4                                      Desserts\n",
       "Name: CUISINES, dtype: object"
      ]
     },
     "execution_count": 186,
     "metadata": {},
     "output_type": "execute_result"
    }
   ],
   "source": [
    "df['CUISINES'].head(5)"
   ]
  },
  {
   "cell_type": "code",
   "execution_count": 187,
   "metadata": {},
   "outputs": [],
   "source": [
    "df['CUISINES1']=df['CUISINES'].str.split(',').str[0]\n",
    "df['CUISINES2']=df['CUISINES'].str.split(',').str[1]\n",
    "df['CUISINES3']=df['CUISINES'].str.split(',').str[2]\n",
    "df['CUISINES4']=df['CUISINES'].str.split(',').str[3]\n",
    "df['CUISINES5']=df['CUISINES'].str.split(',').str[4]"
   ]
  },
  {
   "cell_type": "code",
   "execution_count": 188,
   "metadata": {},
   "outputs": [
    {
     "data": {
      "text/plain": [
       "TITLE            0\n",
       "CUISINES         0\n",
       "CITY             0\n",
       "LOCALITY         0\n",
       "RATING           0\n",
       "VOTES            0\n",
       "COST             0\n",
       "CUISINES1        0\n",
       "CUISINES2     3062\n",
       "CUISINES3     6999\n",
       "CUISINES4     9995\n",
       "CUISINES5    11675\n",
       "dtype: int64"
      ]
     },
     "execution_count": 188,
     "metadata": {},
     "output_type": "execute_result"
    }
   ],
   "source": [
    "df.isnull().sum()"
   ]
  },
  {
   "cell_type": "code",
   "execution_count": null,
   "metadata": {},
   "outputs": [],
   "source": []
  },
  {
   "cell_type": "code",
   "execution_count": 189,
   "metadata": {},
   "outputs": [],
   "source": [
    "df['CUISINES2'].fillna('XXX',inplace=True)\n",
    "df['CUISINES3'].fillna('XXX',inplace=True)\n",
    "df['CUISINES4'].fillna('XXX',inplace=True)\n",
    "df['CUISINES5'].fillna('XXX',inplace=True)\n"
   ]
  },
  {
   "cell_type": "code",
   "execution_count": 190,
   "metadata": {},
   "outputs": [],
   "source": [
    "df.drop(['CUISINES'],axis=1,inplace=True)"
   ]
  },
  {
   "cell_type": "code",
   "execution_count": 191,
   "metadata": {},
   "outputs": [],
   "source": [
    "df['TITLE1']=df['TITLE'].str.split(',').str[0]\n",
    "df['TITLE2']=df['TITLE'].str.split(',').str[1]"
   ]
  },
  {
   "cell_type": "code",
   "execution_count": 192,
   "metadata": {},
   "outputs": [
    {
     "name": "stdout",
     "output_type": "stream",
     "text": [
      "0\n",
      "11208\n"
     ]
    }
   ],
   "source": [
    "print(df['TITLE1'].isnull().sum())\n",
    "print(df['TITLE2'].isnull().sum())"
   ]
  },
  {
   "cell_type": "code",
   "execution_count": 193,
   "metadata": {},
   "outputs": [],
   "source": [
    "#In TITLE2 11208 rows are null,so we can drop it\n",
    "df.drop(['TITLE','TITLE2'],axis=1,inplace=True)"
   ]
  },
  {
   "cell_type": "code",
   "execution_count": 194,
   "metadata": {},
   "outputs": [
    {
     "data": {
      "text/plain": [
       "Index(['CITY', 'LOCALITY', 'RATING', 'VOTES', 'COST', 'CUISINES1', 'CUISINES2',\n",
       "       'CUISINES3', 'CUISINES4', 'CUISINES5', 'TITLE1'],\n",
       "      dtype='object')"
      ]
     },
     "execution_count": 194,
     "metadata": {},
     "output_type": "execute_result"
    }
   ],
   "source": [
    "df.columns"
   ]
  },
  {
   "cell_type": "code",
   "execution_count": 195,
   "metadata": {},
   "outputs": [
    {
     "data": {
      "text/plain": [
       "359"
      ]
     },
     "execution_count": 195,
     "metadata": {},
     "output_type": "execute_result"
    }
   ],
   "source": [
    "df['CITY'].nunique()"
   ]
  },
  {
   "cell_type": "code",
   "execution_count": 196,
   "metadata": {},
   "outputs": [
    {
     "data": {
      "text/html": [
       "<div>\n",
       "<style scoped>\n",
       "    .dataframe tbody tr th:only-of-type {\n",
       "        vertical-align: middle;\n",
       "    }\n",
       "\n",
       "    .dataframe tbody tr th {\n",
       "        vertical-align: top;\n",
       "    }\n",
       "\n",
       "    .dataframe thead th {\n",
       "        text-align: right;\n",
       "    }\n",
       "</style>\n",
       "<table border=\"1\" class=\"dataframe\">\n",
       "  <thead>\n",
       "    <tr style=\"text-align: right;\">\n",
       "      <th></th>\n",
       "      <th>CITY</th>\n",
       "      <th>LOCALITY</th>\n",
       "      <th>RATING</th>\n",
       "      <th>VOTES</th>\n",
       "      <th>COST</th>\n",
       "      <th>CUISINES1</th>\n",
       "      <th>CUISINES2</th>\n",
       "      <th>CUISINES3</th>\n",
       "      <th>CUISINES4</th>\n",
       "      <th>CUISINES5</th>\n",
       "      <th>TITLE1</th>\n",
       "    </tr>\n",
       "  </thead>\n",
       "  <tbody>\n",
       "    <tr>\n",
       "      <th>0</th>\n",
       "      <td>Thane</td>\n",
       "      <td>Dombivali East</td>\n",
       "      <td>3.6</td>\n",
       "      <td>49.0</td>\n",
       "      <td>1200</td>\n",
       "      <td>Malwani</td>\n",
       "      <td>Goan</td>\n",
       "      <td>North Indian</td>\n",
       "      <td>XXX</td>\n",
       "      <td>XXX</td>\n",
       "      <td>CASUAL DINING</td>\n",
       "    </tr>\n",
       "    <tr>\n",
       "      <th>1</th>\n",
       "      <td>Chennai</td>\n",
       "      <td>Ramapuram</td>\n",
       "      <td>4.2</td>\n",
       "      <td>30.0</td>\n",
       "      <td>1500</td>\n",
       "      <td>Asian</td>\n",
       "      <td>Modern Indian</td>\n",
       "      <td>Japanese</td>\n",
       "      <td>XXX</td>\n",
       "      <td>XXX</td>\n",
       "      <td>CASUAL DINING</td>\n",
       "    </tr>\n",
       "    <tr>\n",
       "      <th>2</th>\n",
       "      <td>Chennai</td>\n",
       "      <td>Saligramam</td>\n",
       "      <td>3.8</td>\n",
       "      <td>221.0</td>\n",
       "      <td>800</td>\n",
       "      <td>North Indian</td>\n",
       "      <td>Chinese</td>\n",
       "      <td>Biryani</td>\n",
       "      <td>Hyderabadi</td>\n",
       "      <td>XXX</td>\n",
       "      <td>CASUAL DINING</td>\n",
       "    </tr>\n",
       "    <tr>\n",
       "      <th>3</th>\n",
       "      <td>Mumbai</td>\n",
       "      <td>Bandra West</td>\n",
       "      <td>4.1</td>\n",
       "      <td>24.0</td>\n",
       "      <td>800</td>\n",
       "      <td>Tibetan</td>\n",
       "      <td>Chinese</td>\n",
       "      <td>XXX</td>\n",
       "      <td>XXX</td>\n",
       "      <td>XXX</td>\n",
       "      <td>QUICK BITES</td>\n",
       "    </tr>\n",
       "    <tr>\n",
       "      <th>4</th>\n",
       "      <td>Mumbai</td>\n",
       "      <td>Lower Parel</td>\n",
       "      <td>3.8</td>\n",
       "      <td>165.0</td>\n",
       "      <td>300</td>\n",
       "      <td>Desserts</td>\n",
       "      <td>XXX</td>\n",
       "      <td>XXX</td>\n",
       "      <td>XXX</td>\n",
       "      <td>XXX</td>\n",
       "      <td>DESSERT PARLOR</td>\n",
       "    </tr>\n",
       "    <tr>\n",
       "      <th>...</th>\n",
       "      <td>...</td>\n",
       "      <td>...</td>\n",
       "      <td>...</td>\n",
       "      <td>...</td>\n",
       "      <td>...</td>\n",
       "      <td>...</td>\n",
       "      <td>...</td>\n",
       "      <td>...</td>\n",
       "      <td>...</td>\n",
       "      <td>...</td>\n",
       "      <td>...</td>\n",
       "    </tr>\n",
       "    <tr>\n",
       "      <th>12685</th>\n",
       "      <td>Hyderabad</td>\n",
       "      <td>Gachibowli</td>\n",
       "      <td>3.8</td>\n",
       "      <td>546.0</td>\n",
       "      <td>500</td>\n",
       "      <td>North Indian</td>\n",
       "      <td>Burger</td>\n",
       "      <td>Kebab</td>\n",
       "      <td>XXX</td>\n",
       "      <td>XXX</td>\n",
       "      <td>QUICK BITES</td>\n",
       "    </tr>\n",
       "    <tr>\n",
       "      <th>12686</th>\n",
       "      <td>Mumbai</td>\n",
       "      <td>Bandra Kurla Complex</td>\n",
       "      <td>4.3</td>\n",
       "      <td>1214.0</td>\n",
       "      <td>1800</td>\n",
       "      <td>Goan</td>\n",
       "      <td>Continental</td>\n",
       "      <td>XXX</td>\n",
       "      <td>XXX</td>\n",
       "      <td>XXX</td>\n",
       "      <td>CASUAL DINING</td>\n",
       "    </tr>\n",
       "    <tr>\n",
       "      <th>12687</th>\n",
       "      <td>Navi Mumbai</td>\n",
       "      <td>Vashi</td>\n",
       "      <td>4.0</td>\n",
       "      <td>608.0</td>\n",
       "      <td>1300</td>\n",
       "      <td>Finger Food</td>\n",
       "      <td>Continental</td>\n",
       "      <td>Asian</td>\n",
       "      <td>Chinese</td>\n",
       "      <td>XXX</td>\n",
       "      <td>LOUNGE</td>\n",
       "    </tr>\n",
       "    <tr>\n",
       "      <th>12688</th>\n",
       "      <td>Chennai</td>\n",
       "      <td>Maduravoyal</td>\n",
       "      <td>3.5</td>\n",
       "      <td>32.0</td>\n",
       "      <td>400</td>\n",
       "      <td>North Indian</td>\n",
       "      <td>South Indian</td>\n",
       "      <td>Chinese</td>\n",
       "      <td>Street Food</td>\n",
       "      <td>XXX</td>\n",
       "      <td>CASUAL DINING</td>\n",
       "    </tr>\n",
       "    <tr>\n",
       "      <th>12689</th>\n",
       "      <td>Hyderabad</td>\n",
       "      <td>Vanasthalipuram</td>\n",
       "      <td>3.4</td>\n",
       "      <td>677.0</td>\n",
       "      <td>600</td>\n",
       "      <td>North Indian</td>\n",
       "      <td>Chinese</td>\n",
       "      <td>XXX</td>\n",
       "      <td>XXX</td>\n",
       "      <td>XXX</td>\n",
       "      <td>CASUAL DINING</td>\n",
       "    </tr>\n",
       "  </tbody>\n",
       "</table>\n",
       "<p>12690 rows × 11 columns</p>\n",
       "</div>"
      ],
      "text/plain": [
       "              CITY              LOCALITY RATING   VOTES  COST     CUISINES1  \\\n",
       "0            Thane        Dombivali East    3.6    49.0  1200       Malwani   \n",
       "1          Chennai             Ramapuram    4.2    30.0  1500         Asian   \n",
       "2          Chennai            Saligramam    3.8   221.0   800  North Indian   \n",
       "3           Mumbai           Bandra West    4.1    24.0   800       Tibetan   \n",
       "4           Mumbai           Lower Parel    3.8   165.0   300      Desserts   \n",
       "...            ...                   ...    ...     ...   ...           ...   \n",
       "12685    Hyderabad            Gachibowli    3.8   546.0   500  North Indian   \n",
       "12686       Mumbai  Bandra Kurla Complex    4.3  1214.0  1800          Goan   \n",
       "12687  Navi Mumbai                 Vashi    4.0   608.0  1300   Finger Food   \n",
       "12688      Chennai           Maduravoyal    3.5    32.0   400  North Indian   \n",
       "12689    Hyderabad       Vanasthalipuram    3.4   677.0   600  North Indian   \n",
       "\n",
       "            CUISINES2      CUISINES3     CUISINES4 CUISINES5          TITLE1  \n",
       "0                Goan   North Indian           XXX       XXX   CASUAL DINING  \n",
       "1       Modern Indian       Japanese           XXX       XXX   CASUAL DINING  \n",
       "2             Chinese        Biryani    Hyderabadi       XXX   CASUAL DINING  \n",
       "3             Chinese            XXX           XXX       XXX     QUICK BITES  \n",
       "4                 XXX            XXX           XXX       XXX  DESSERT PARLOR  \n",
       "...               ...            ...           ...       ...             ...  \n",
       "12685          Burger          Kebab           XXX       XXX     QUICK BITES  \n",
       "12686     Continental            XXX           XXX       XXX   CASUAL DINING  \n",
       "12687     Continental          Asian       Chinese       XXX          LOUNGE  \n",
       "12688    South Indian        Chinese   Street Food       XXX   CASUAL DINING  \n",
       "12689         Chinese            XXX           XXX       XXX   CASUAL DINING  \n",
       "\n",
       "[12690 rows x 11 columns]"
      ]
     },
     "execution_count": 196,
     "metadata": {},
     "output_type": "execute_result"
    }
   ],
   "source": [
    "df"
   ]
  },
  {
   "cell_type": "code",
   "execution_count": 197,
   "metadata": {},
   "outputs": [
    {
     "data": {
      "image/png": "[encoded data removed]",
      "text/plain": [
       "<Figure size 432x288 with 1 Axes>"
      ]
     },
     "metadata": {
      "needs_background": "light"
     },
     "output_type": "display_data"
    }
   ],
   "source": [
    "#checking COST count of Restaurant\n",
    "\n",
    "#checking the mean cost\n",
    "fees=df['COST'].hist()\n",
    "mean_val=np.mean(df['COST'])\n",
    "plt.axvline(mean_val,linewidth=4,color='red',label='mean Cost')\n",
    "plt.xlabel('COST')\n",
    "plt.ylabel('Count')\n",
    "plt.legend()\n",
    "plt.show()"
   ]
  },
  {
   "cell_type": "markdown",
   "metadata": {},
   "source": [
    "OBSERVATION"
   ]
  },
  {
   "cell_type": "markdown",
   "metadata": {},
   "source": [
    "   The mean cost is around 600 rs"
   ]
  },
  {
   "cell_type": "code",
   "execution_count": 198,
   "metadata": {},
   "outputs": [
    {
     "data": {
      "image/png": "[encoded data removed]",
      "text/plain": [
       "<Figure size 1728x576 with 1 Axes>"
      ]
     },
     "metadata": {
      "needs_background": "light"
     },
     "output_type": "display_data"
    },
    {
     "name": "stdout",
     "output_type": "stream",
     "text": [
      "QUICK BITES       4337\n",
      "CASUAL DINING     4122\n",
      "None              1003\n",
      "CAFÉ               749\n",
      "DESSERT PARLOR     478\n",
      "BAKERY             463\n",
      "FINE DINING        350\n",
      "BAR                254\n",
      "BEVERAGE SHOP      215\n",
      "LOUNGE             154\n",
      "PUB                103\n",
      "SWEET SHOP         102\n",
      "FOOD COURT          93\n",
      "KIOSK               56\n",
      "MESS                53\n",
      "DHABA               45\n",
      "MICROBREWERY        44\n",
      "FOOD TRUCK          30\n",
      "CLUB                23\n",
      "COCKTAIL BAR         6\n",
      "PAAN SHOP            4\n",
      "MEAT SHOP            3\n",
      "CONFECTIONERY        3\n",
      "Name: TITLE1, dtype: int64\n"
     ]
    }
   ],
   "source": [
    "#count by TITLE of restaurant\n",
    "\n",
    "plt.subplots(figsize=(24,8))\n",
    "sns.countplot(x='TITLE1',data=df)\n",
    "plt.title('TITLE1 Count of restaurant')\n",
    "plt.xticks(rotation = 90)\n",
    "plt.show()\n",
    "\n",
    "print(df['TITLE1'].value_counts())"
   ]
  },
  {
   "cell_type": "markdown",
   "metadata": {},
   "source": [
    "OBSERVATION"
   ]
  },
  {
   "cell_type": "markdown",
   "metadata": {},
   "source": [
    "  1.The restaurant that features QUICK BITES occurs most frequently followed by CASUAL DINING"
   ]
  },
  {
   "cell_type": "code",
   "execution_count": 199,
   "metadata": {},
   "outputs": [
    {
     "data": {
      "image/png": "[encoded data removed]",
      "text/plain": [
       "<Figure size 1728x576 with 1 Axes>"
      ]
     },
     "metadata": {
      "needs_background": "light"
     },
     "output_type": "display_data"
    },
    {
     "name": "stdout",
     "output_type": "stream",
     "text": [
      "3.9    1240\n",
      "3.9    1202\n",
      "3.8    1190\n",
      "4.0    1099\n",
      "3.7    1086\n",
      "3.6     951\n",
      "4.1     936\n",
      "3.5     771\n",
      "4.2     723\n",
      "3.4     575\n",
      "4.3     556\n",
      "3.3     365\n",
      "4.4     362\n",
      "3.2     266\n",
      "4.5     199\n",
      "2.9     186\n",
      "3.1     186\n",
      "3.0     170\n",
      "2.8     146\n",
      "4.6     141\n",
      "2.7      89\n",
      "4.7      69\n",
      "2.6      61\n",
      "2.5      35\n",
      "4.8      32\n",
      "4.9      22\n",
      "2.4      15\n",
      "2.3      10\n",
      "2.1       3\n",
      "2.0       2\n",
      "2.2       2\n",
      "Name: RATING, dtype: int64\n"
     ]
    }
   ],
   "source": [
    "#count by TITLE of restaurant\n",
    "\n",
    "plt.subplots(figsize=(24,8))\n",
    "sns.countplot(x='RATING',data=df)\n",
    "plt.title('TITLE1 Count of restaurant')\n",
    "plt.xticks(rotation = 90)\n",
    "plt.show()\n",
    "\n",
    "print(df['RATING'].value_counts())"
   ]
  },
  {
   "cell_type": "code",
   "execution_count": 200,
   "metadata": {},
   "outputs": [],
   "source": [
    "#changing ratings column into Float type\n",
    "df['RATING']=df['RATING'].astype(float)"
   ]
  },
  {
   "cell_type": "markdown",
   "metadata": {},
   "source": [
    "OBSERVATION:"
   ]
  },
  {
   "cell_type": "markdown",
   "metadata": {},
   "source": [
    "   1. Most of the restauramts gets average rating of 3.9 by the customer"
   ]
  },
  {
   "cell_type": "markdown",
   "metadata": {},
   "source": [
    "   2.Hightest rating given by customer to restaurant is 4.9."
   ]
  },
  {
   "cell_type": "markdown",
   "metadata": {},
   "source": [
    "   3. 22 restaurants gets 4.9 rating"
   ]
  },
  {
   "cell_type": "markdown",
   "metadata": {},
   "source": [
    "   4.Lowest rating given by customer to restaurant is 2.0"
   ]
  },
  {
   "cell_type": "code",
   "execution_count": 216,
   "metadata": {},
   "outputs": [
    {
     "data": {
      "image/png": "[encoded data removed]",
      "text/plain": [
       "<Figure size 2160x576 with 1 Axes>"
      ]
     },
     "metadata": {
      "needs_background": "light"
     },
     "output_type": "display_data"
    },
    {
     "name": "stdout",
     "output_type": "stream",
     "text": [
      "72    3129\n",
      "90    1241\n",
      "25     996\n",
      "33     762\n",
      "21     713\n",
      "      ... \n",
      "5        1\n",
      "68       1\n",
      "44       1\n",
      "83       1\n",
      "0        1\n",
      "Name: CUISINES1, Length: 104, dtype: int64\n"
     ]
    }
   ],
   "source": [
    "#count by CUISINES1 of restaurant\n",
    "\n",
    "plt.subplots(figsize=(30,8))\n",
    "sns.countplot(x='CUISINES1',data=df)\n",
    "plt.title('CUISINES1 Count of restaurant')\n",
    "plt.xticks(rotation = 90)\n",
    "plt.show()\n",
    "\n",
    "print(df['CUISINES1'].value_counts())"
   ]
  },
  {
   "cell_type": "markdown",
   "metadata": {},
   "source": [
    "OBSERVATION:"
   ]
  },
  {
   "cell_type": "markdown",
   "metadata": {},
   "source": [
    "1.Most of the restaurant (around 3129 ) offers North Indian Cuisines1.It means more people prefer eating north indian food"
   ]
  },
  {
   "cell_type": "markdown",
   "metadata": {},
   "source": [
    "2. 1241 restaurants offer South Indian Cuisines"
   ]
  },
  {
   "cell_type": "markdown",
   "metadata": {},
   "source": [
    "3. 996 restaurants offers chinese  cuisines"
   ]
  },
  {
   "cell_type": "markdown",
   "metadata": {},
   "source": [
    "4. Only single- single restaurant offers Lucknowi,Assamese,Armenim,Russian,Irish cusisnes"
   ]
  },
  {
   "cell_type": "code",
   "execution_count": 217,
   "metadata": {},
   "outputs": [
    {
     "data": {
      "image/png": "[encoded data removed]",
      "text/plain": [
       "<Figure size 2160x576 with 1 Axes>"
      ]
     },
     "metadata": {
      "needs_background": "light"
     },
     "output_type": "display_data"
    },
    {
     "name": "stdout",
     "output_type": "stream",
     "text": [
      "98    3062\n",
      "23    1830\n",
      "66    1373\n",
      "28     782\n",
      "84     638\n",
      "      ... \n",
      "5        1\n",
      "76       1\n",
      "67       1\n",
      "33       1\n",
      "10       1\n",
      "Name: CUISINES2, Length: 99, dtype: int64\n"
     ]
    }
   ],
   "source": [
    "#count by CUISINES2 of restaurant\n",
    "\n",
    "plt.subplots(figsize=(30,8))\n",
    "sns.countplot(x='CUISINES2',data=df)\n",
    "plt.title('CUISINES2 Count of restaurant')\n",
    "plt.xticks(rotation = 90)\n",
    "plt.show()\n",
    "\n",
    "print(df['CUISINES2'].value_counts())"
   ]
  },
  {
   "cell_type": "markdown",
   "metadata": {},
   "source": [
    "\n",
    "Observation:"
   ]
  },
  {
   "cell_type": "markdown",
   "metadata": {},
   "source": [
    "1* Around 4890 restaurants offers Chinise cuisines"
   ]
  },
  {
   "cell_type": "markdown",
   "metadata": {},
   "source": [
    "2*  1373 restaurants offers NorthIndian food"
   ]
  },
  {
   "cell_type": "markdown",
   "metadata": {},
   "source": [
    "3*  638 restaurant offers SouthIndian foods"
   ]
  },
  {
   "cell_type": "markdown",
   "metadata": {},
   "source": [
    "4*  782 restaurants offers fast food"
   ]
  },
  {
   "cell_type": "code",
   "execution_count": 218,
   "metadata": {},
   "outputs": [
    {
     "data": {
      "image/png": "[encoded data removed]",
      "text/plain": [
       "<Figure size 2160x576 with 1 Axes>"
      ]
     },
     "metadata": {
      "needs_background": "light"
     },
     "output_type": "display_data"
    },
    {
     "name": "stdout",
     "output_type": "stream",
     "text": [
      "93    6999\n",
      "21    1146\n",
      "66     593\n",
      "27     387\n",
      "23     345\n",
      "      ... \n",
      "61       1\n",
      "30       1\n",
      "9        1\n",
      "14       1\n",
      "64       1\n",
      "Name: CUISINES3, Length: 94, dtype: int64\n"
     ]
    }
   ],
   "source": [
    "#count by CUISINES3 of restaurant\n",
    "\n",
    "plt.subplots(figsize=(30,8))\n",
    "sns.countplot(x='CUISINES3',data=df)\n",
    "plt.title('CUISINES3 Count of restaurant')\n",
    "plt.xticks(rotation = 90)\n",
    "plt.show()\n",
    "\n",
    "print(df['CUISINES3'].value_counts())"
   ]
  },
  {
   "cell_type": "markdown",
   "metadata": {},
   "source": [
    "observation:"
   ]
  },
  {
   "cell_type": "markdown",
   "metadata": {},
   "source": [
    "1*  Around 1146 restaurants offer chinese cuisine"
   ]
  },
  {
   "cell_type": "markdown",
   "metadata": {},
   "source": [
    "2*  593 restaurants offers North Indian food"
   ]
  },
  {
   "cell_type": "code",
   "execution_count": 204,
   "metadata": {},
   "outputs": [
    {
     "data": {
      "image/png": "[encoded data removed]",
      "text/plain": [
       "<Figure size 2160x576 with 1 Axes>"
      ]
     },
     "metadata": {
      "needs_background": "light"
     },
     "output_type": "display_data"
    },
    {
     "name": "stdout",
     "output_type": "stream",
     "text": [
      "XXX                9995\n",
      " Chinese            294\n",
      " North Indian       207\n",
      " Italian            156\n",
      " Beverages          156\n",
      "                   ... \n",
      " Cuisine Varies       1\n",
      " Peruvian             1\n",
      " British              1\n",
      " Nepalese             1\n",
      " Turkish              1\n",
      "Name: CUISINES4, Length: 86, dtype: int64\n"
     ]
    }
   ],
   "source": [
    "#count by CUISINES4 of restaurant\n",
    "\n",
    "plt.subplots(figsize=(30,8))\n",
    "sns.countplot(x='CUISINES4',data=df)\n",
    "plt.title('CUISINES4 Count of restaurant')\n",
    "plt.xticks(rotation = 90)\n",
    "plt.show()\n",
    "\n",
    "print(df['CUISINES4'].value_counts())"
   ]
  },
  {
   "cell_type": "markdown",
   "metadata": {},
   "source": [
    "observation:"
   ]
  },
  {
   "cell_type": "markdown",
   "metadata": {},
   "source": [
    "294 restaurants offers chinese cuisines"
   ]
  },
  {
   "cell_type": "markdown",
   "metadata": {},
   "source": [
    "207 restaurant offers NorthIndian food"
   ]
  },
  {
   "cell_type": "code",
   "execution_count": 205,
   "metadata": {},
   "outputs": [
    {
     "data": {
      "image/png": "[encoded data removed]",
      "text/plain": [
       "<Figure size 2160x576 with 1 Axes>"
      ]
     },
     "metadata": {
      "needs_background": "light"
     },
     "output_type": "display_data"
    },
    {
     "name": "stdout",
     "output_type": "stream",
     "text": [
      "XXX           11675\n",
      " Beverages       85\n",
      " Chinese         77\n",
      " Desserts        65\n",
      " Italian         54\n",
      "              ...  \n",
      " Awadhi           1\n",
      " Burmese          1\n",
      " Tibetan          1\n",
      " Nepalese         1\n",
      " Pan Asian        1\n",
      "Name: CUISINES5, Length: 79, dtype: int64\n"
     ]
    }
   ],
   "source": [
    "#count by CUISINES5 of restaurant\n",
    "\n",
    "plt.subplots(figsize=(30,8))\n",
    "sns.countplot(x='CUISINES5',data=df)\n",
    "plt.title('CUISINES5 Count of restaurant')\n",
    "plt.xticks(rotation = 90)\n",
    "plt.show()\n",
    "\n",
    "print(df['CUISINES5'].value_counts())"
   ]
  },
  {
   "cell_type": "markdown",
   "metadata": {},
   "source": [
    "\n",
    "OBSERVATION:"
   ]
  },
  {
   "cell_type": "markdown",
   "metadata": {},
   "source": [
    "85 Restaurant offers beverages"
   ]
  },
  {
   "cell_type": "markdown",
   "metadata": {},
   "source": [
    "77 restaurants offers chinise cuisine"
   ]
  },
  {
   "cell_type": "markdown",
   "metadata": {},
   "source": [
    "                OVERALL OBSERVATION OF CUISINE COLUMN:"
   ]
  },
  {
   "cell_type": "markdown",
   "metadata": {},
   "source": [
    "Around 5300 restaurant offers North Indian food"
   ]
  },
  {
   "cell_type": "markdown",
   "metadata": {},
   "source": [
    "Around 4300 restaurants offers chinese cuisines"
   ]
  },
  {
   "cell_type": "markdown",
   "metadata": {},
   "source": [
    "Around 1100 restaurants offers Fast Food"
   ]
  },
  {
   "cell_type": "markdown",
   "metadata": {},
   "source": [
    "85 restaurants offers  beverages"
   ]
  },
  {
   "cell_type": "markdown",
   "metadata": {},
   "source": [
    "# Bivariate Analysis"
   ]
  },
  {
   "cell_type": "code",
   "execution_count": 206,
   "metadata": {},
   "outputs": [
    {
     "data": {
      "text/plain": [
       "(array([  0,   1,   2,   3,   4,   5,   6,   7,   8,   9,  10,  11,  12,\n",
       "         13,  14,  15,  16,  17,  18,  19,  20,  21,  22,  23,  24,  25,\n",
       "         26,  27,  28,  29,  30,  31,  32,  33,  34,  35,  36,  37,  38,\n",
       "         39,  40,  41,  42,  43,  44,  45,  46,  47,  48,  49,  50,  51,\n",
       "         52,  53,  54,  55,  56,  57,  58,  59,  60,  61,  62,  63,  64,\n",
       "         65,  66,  67,  68,  69,  70,  71,  72,  73,  74,  75,  76,  77,\n",
       "         78,  79,  80,  81,  82,  83,  84,  85,  86,  87,  88,  89,  90,\n",
       "         91,  92,  93,  94,  95,  96,  97,  98,  99, 100, 101, 102, 103]),\n",
       " <a list of 104 Text major ticklabel objects>)"
      ]
     },
     "execution_count": 206,
     "metadata": {},
     "output_type": "execute_result"
    },
    {
     "data": {
      "image/png": "[encoded data removed]",
      "text/plain": [
       "<Figure size 2160x720 with 1 Axes>"
      ]
     },
     "metadata": {
      "needs_background": "light"
     },
     "output_type": "display_data"
    }
   ],
   "source": [
    "plt.figure(figsize=(30,10))\n",
    "sns.barplot(x='CUISINES1',y='COST',data=df)\n",
    "plt.xticks(rotation=90)\n",
    "\n"
   ]
  },
  {
   "cell_type": "code",
   "execution_count": 207,
   "metadata": {},
   "outputs": [
    {
     "data": {
      "text/html": [
       "<div>\n",
       "<style scoped>\n",
       "    .dataframe tbody tr th:only-of-type {\n",
       "        vertical-align: middle;\n",
       "    }\n",
       "\n",
       "    .dataframe tbody tr th {\n",
       "        vertical-align: top;\n",
       "    }\n",
       "\n",
       "    .dataframe thead th {\n",
       "        text-align: right;\n",
       "    }\n",
       "</style>\n",
       "<table border=\"1\" class=\"dataframe\">\n",
       "  <thead>\n",
       "    <tr style=\"text-align: right;\">\n",
       "      <th></th>\n",
       "      <th>CITY</th>\n",
       "      <th>LOCALITY</th>\n",
       "      <th>RATING</th>\n",
       "      <th>VOTES</th>\n",
       "      <th>COST</th>\n",
       "      <th>CUISINES1</th>\n",
       "      <th>CUISINES2</th>\n",
       "      <th>CUISINES3</th>\n",
       "      <th>CUISINES4</th>\n",
       "      <th>CUISINES5</th>\n",
       "      <th>TITLE1</th>\n",
       "    </tr>\n",
       "  </thead>\n",
       "  <tbody>\n",
       "    <tr>\n",
       "      <th>1475</th>\n",
       "      <td>Bangalore</td>\n",
       "      <td>Nagawara</td>\n",
       "      <td>3.9</td>\n",
       "      <td>126.0</td>\n",
       "      <td>14000</td>\n",
       "      <td>Continental</td>\n",
       "      <td>North Indian</td>\n",
       "      <td>XXX</td>\n",
       "      <td>XXX</td>\n",
       "      <td>XXX</td>\n",
       "      <td>FINE DINING</td>\n",
       "    </tr>\n",
       "    <tr>\n",
       "      <th>3211</th>\n",
       "      <td>Mumbai</td>\n",
       "      <td>Colaba</td>\n",
       "      <td>4.4</td>\n",
       "      <td>592.0</td>\n",
       "      <td>10000</td>\n",
       "      <td>Japanese</td>\n",
       "      <td>Sushi</td>\n",
       "      <td>XXX</td>\n",
       "      <td>XXX</td>\n",
       "      <td>XXX</td>\n",
       "      <td>FINE DINING</td>\n",
       "    </tr>\n",
       "    <tr>\n",
       "      <th>1916</th>\n",
       "      <td>Hyderabad</td>\n",
       "      <td>Falaknuma</td>\n",
       "      <td>4.5</td>\n",
       "      <td>1019.0</td>\n",
       "      <td>8000</td>\n",
       "      <td>Hyderabadi</td>\n",
       "      <td>XXX</td>\n",
       "      <td>XXX</td>\n",
       "      <td>XXX</td>\n",
       "      <td>XXX</td>\n",
       "      <td>FINE DINING</td>\n",
       "    </tr>\n",
       "    <tr>\n",
       "      <th>7883</th>\n",
       "      <td>Hyderabad</td>\n",
       "      <td>Falaknuma</td>\n",
       "      <td>4.5</td>\n",
       "      <td>304.0</td>\n",
       "      <td>7000</td>\n",
       "      <td>Italian</td>\n",
       "      <td>Mediterranean</td>\n",
       "      <td>Thai</td>\n",
       "      <td>XXX</td>\n",
       "      <td>XXX</td>\n",
       "      <td>FINE DINING</td>\n",
       "    </tr>\n",
       "    <tr>\n",
       "      <th>2689</th>\n",
       "      <td>Mumbai</td>\n",
       "      <td>Mahalaxmi</td>\n",
       "      <td>4.3</td>\n",
       "      <td>340.0</td>\n",
       "      <td>6500</td>\n",
       "      <td>Continental</td>\n",
       "      <td>XXX</td>\n",
       "      <td>XXX</td>\n",
       "      <td>XXX</td>\n",
       "      <td>XXX</td>\n",
       "      <td>FINE DINING</td>\n",
       "    </tr>\n",
       "  </tbody>\n",
       "</table>\n",
       "</div>"
      ],
      "text/plain": [
       "           CITY   LOCALITY  RATING   VOTES   COST    CUISINES1  \\\n",
       "1475  Bangalore   Nagawara     3.9   126.0  14000  Continental   \n",
       "3211     Mumbai     Colaba     4.4   592.0  10000     Japanese   \n",
       "1916  Hyderabad  Falaknuma     4.5  1019.0   8000   Hyderabadi   \n",
       "7883  Hyderabad  Falaknuma     4.5   304.0   7000      Italian   \n",
       "2689     Mumbai  Mahalaxmi     4.3   340.0   6500  Continental   \n",
       "\n",
       "           CUISINES2 CUISINES3 CUISINES4 CUISINES5       TITLE1  \n",
       "1475    North Indian       XXX       XXX       XXX  FINE DINING  \n",
       "3211           Sushi       XXX       XXX       XXX  FINE DINING  \n",
       "1916             XXX       XXX       XXX       XXX  FINE DINING  \n",
       "7883   Mediterranean      Thai       XXX       XXX  FINE DINING  \n",
       "2689             XXX       XXX       XXX       XXX  FINE DINING  "
      ]
     },
     "execution_count": 207,
     "metadata": {},
     "output_type": "execute_result"
    }
   ],
   "source": [
    "costly_cuisine=df.sort_values(by='COST',ascending=False)\n",
    "costly_cuisine.head()"
   ]
  },
  {
   "cell_type": "code",
   "execution_count": 208,
   "metadata": {},
   "outputs": [
    {
     "data": {
      "text/plain": [
       "<matplotlib.axes._subplots.AxesSubplot at 0x1d94a8a3760>"
      ]
     },
     "execution_count": 208,
     "metadata": {},
     "output_type": "execute_result"
    },
    {
     "data": {
      "image/png": "[encoded data removed]",
      "text/plain": [
       "<Figure size 720x360 with 2 Axes>"
      ]
     },
     "metadata": {
      "needs_background": "light"
     },
     "output_type": "display_data"
    }
   ],
   "source": [
    "plt.figure(figsize=(10,5))\n",
    "plt.subplot(1,2,1)\n",
    "sns.barplot(x='CUISINES1',y='COST',data=costly_cuisine.head())\n",
    "\n",
    "\n",
    "plt.subplot(1,2,2)\n",
    "sns.barplot(x='CUISINES2',y='COST',data=costly_cuisine.head())\n",
    "\n"
   ]
  },
  {
   "cell_type": "markdown",
   "metadata": {},
   "source": [
    "Observation from above:"
   ]
  },
  {
   "cell_type": "markdown",
   "metadata": {},
   "source": [
    "1.Continental & NorthIndian  are most costly cuisines followed bu Sushi,Japanese.Both Continental & NorthIndian  are offered in resturant that     features FINE DINING,located in Bangalore"
   ]
  },
  {
   "cell_type": "code",
   "execution_count": 209,
   "metadata": {},
   "outputs": [
    {
     "data": {
      "text/html": [
       "<div>\n",
       "<style scoped>\n",
       "    .dataframe tbody tr th:only-of-type {\n",
       "        vertical-align: middle;\n",
       "    }\n",
       "\n",
       "    .dataframe tbody tr th {\n",
       "        vertical-align: top;\n",
       "    }\n",
       "\n",
       "    .dataframe thead th {\n",
       "        text-align: right;\n",
       "    }\n",
       "</style>\n",
       "<table border=\"1\" class=\"dataframe\">\n",
       "  <thead>\n",
       "    <tr style=\"text-align: right;\">\n",
       "      <th></th>\n",
       "      <th>CITY</th>\n",
       "      <th>LOCALITY</th>\n",
       "      <th>RATING</th>\n",
       "      <th>VOTES</th>\n",
       "      <th>COST</th>\n",
       "      <th>CUISINES1</th>\n",
       "      <th>CUISINES2</th>\n",
       "      <th>CUISINES3</th>\n",
       "      <th>CUISINES4</th>\n",
       "      <th>CUISINES5</th>\n",
       "      <th>TITLE1</th>\n",
       "    </tr>\n",
       "  </thead>\n",
       "  <tbody>\n",
       "    <tr>\n",
       "      <th>6154</th>\n",
       "      <td>Kochi</td>\n",
       "      <td>Thevera</td>\n",
       "      <td>3.9</td>\n",
       "      <td>44.0</td>\n",
       "      <td>20</td>\n",
       "      <td>Beverages</td>\n",
       "      <td>XXX</td>\n",
       "      <td>XXX</td>\n",
       "      <td>XXX</td>\n",
       "      <td>XXX</td>\n",
       "      <td>BEVERAGE SHOP</td>\n",
       "    </tr>\n",
       "    <tr>\n",
       "      <th>7165</th>\n",
       "      <td>Kochi</td>\n",
       "      <td>Kaloor</td>\n",
       "      <td>3.9</td>\n",
       "      <td>44.0</td>\n",
       "      <td>50</td>\n",
       "      <td>South Indian</td>\n",
       "      <td>Beverages</td>\n",
       "      <td>XXX</td>\n",
       "      <td>XXX</td>\n",
       "      <td>XXX</td>\n",
       "      <td>QUICK BITES</td>\n",
       "    </tr>\n",
       "    <tr>\n",
       "      <th>9578</th>\n",
       "      <td>New Delhi</td>\n",
       "      <td>Kashmiri Gate</td>\n",
       "      <td>4.3</td>\n",
       "      <td>441.0</td>\n",
       "      <td>50</td>\n",
       "      <td>Street Food</td>\n",
       "      <td>XXX</td>\n",
       "      <td>XXX</td>\n",
       "      <td>XXX</td>\n",
       "      <td>XXX</td>\n",
       "      <td>None</td>\n",
       "    </tr>\n",
       "    <tr>\n",
       "      <th>1185</th>\n",
       "      <td>Mumbai</td>\n",
       "      <td>Jogeshwari</td>\n",
       "      <td>3.9</td>\n",
       "      <td>44.0</td>\n",
       "      <td>50</td>\n",
       "      <td>Tea</td>\n",
       "      <td>XXX</td>\n",
       "      <td>XXX</td>\n",
       "      <td>XXX</td>\n",
       "      <td>XXX</td>\n",
       "      <td>QUICK BITES</td>\n",
       "    </tr>\n",
       "    <tr>\n",
       "      <th>1281</th>\n",
       "      <td>Mumbai</td>\n",
       "      <td>Girgaum</td>\n",
       "      <td>3.3</td>\n",
       "      <td>7.0</td>\n",
       "      <td>50</td>\n",
       "      <td>South Indian</td>\n",
       "      <td>North Indian</td>\n",
       "      <td>Maharashtrian</td>\n",
       "      <td>Fast Food</td>\n",
       "      <td>XXX</td>\n",
       "      <td>None</td>\n",
       "    </tr>\n",
       "    <tr>\n",
       "      <th>1422</th>\n",
       "      <td>Chennai</td>\n",
       "      <td>West K.K. Nagar</td>\n",
       "      <td>3.8</td>\n",
       "      <td>112.0</td>\n",
       "      <td>50</td>\n",
       "      <td>South Indian</td>\n",
       "      <td>XXX</td>\n",
       "      <td>XXX</td>\n",
       "      <td>XXX</td>\n",
       "      <td>XXX</td>\n",
       "      <td>QUICK BITES</td>\n",
       "    </tr>\n",
       "    <tr>\n",
       "      <th>235</th>\n",
       "      <td>Kochi</td>\n",
       "      <td>Near Marine Drive</td>\n",
       "      <td>3.9</td>\n",
       "      <td>44.0</td>\n",
       "      <td>50</td>\n",
       "      <td>Kerala</td>\n",
       "      <td>XXX</td>\n",
       "      <td>XXX</td>\n",
       "      <td>XXX</td>\n",
       "      <td>XXX</td>\n",
       "      <td>QUICK BITES</td>\n",
       "    </tr>\n",
       "    <tr>\n",
       "      <th>10914</th>\n",
       "      <td>New Delhi</td>\n",
       "      <td>Kamla Nagar</td>\n",
       "      <td>4.1</td>\n",
       "      <td>281.0</td>\n",
       "      <td>50</td>\n",
       "      <td>Street Food</td>\n",
       "      <td>XXX</td>\n",
       "      <td>XXX</td>\n",
       "      <td>XXX</td>\n",
       "      <td>XXX</td>\n",
       "      <td>None</td>\n",
       "    </tr>\n",
       "    <tr>\n",
       "      <th>3551</th>\n",
       "      <td>Secunderabad</td>\n",
       "      <td>S D Road</td>\n",
       "      <td>4.2</td>\n",
       "      <td>111.0</td>\n",
       "      <td>50</td>\n",
       "      <td>Street Food</td>\n",
       "      <td>XXX</td>\n",
       "      <td>XXX</td>\n",
       "      <td>XXX</td>\n",
       "      <td>XXX</td>\n",
       "      <td>QUICK BITES</td>\n",
       "    </tr>\n",
       "    <tr>\n",
       "      <th>299</th>\n",
       "      <td>Hyderabad</td>\n",
       "      <td>L B Nagar</td>\n",
       "      <td>2.7</td>\n",
       "      <td>56.0</td>\n",
       "      <td>60</td>\n",
       "      <td>Bakery</td>\n",
       "      <td>Desserts</td>\n",
       "      <td>XXX</td>\n",
       "      <td>XXX</td>\n",
       "      <td>XXX</td>\n",
       "      <td>QUICK BITES</td>\n",
       "    </tr>\n",
       "  </tbody>\n",
       "</table>\n",
       "</div>"
      ],
      "text/plain": [
       "               CITY           LOCALITY  RATING  VOTES  COST     CUISINES1  \\\n",
       "6154          Kochi            Thevera     3.9   44.0    20     Beverages   \n",
       "7165          Kochi             Kaloor     3.9   44.0    50  South Indian   \n",
       "9578      New Delhi      Kashmiri Gate     4.3  441.0    50   Street Food   \n",
       "1185         Mumbai         Jogeshwari     3.9   44.0    50           Tea   \n",
       "1281         Mumbai            Girgaum     3.3    7.0    50  South Indian   \n",
       "1422        Chennai    West K.K. Nagar     3.8  112.0    50  South Indian   \n",
       "235           Kochi  Near Marine Drive     3.9   44.0    50        Kerala   \n",
       "10914     New Delhi        Kamla Nagar     4.1  281.0    50   Street Food   \n",
       "3551   Secunderabad           S D Road     4.2  111.0    50   Street Food   \n",
       "299       Hyderabad          L B Nagar     2.7   56.0    60        Bakery   \n",
       "\n",
       "           CUISINES2       CUISINES3   CUISINES4 CUISINES5         TITLE1  \n",
       "6154             XXX             XXX         XXX       XXX  BEVERAGE SHOP  \n",
       "7165       Beverages             XXX         XXX       XXX    QUICK BITES  \n",
       "9578             XXX             XXX         XXX       XXX           None  \n",
       "1185             XXX             XXX         XXX       XXX    QUICK BITES  \n",
       "1281    North Indian   Maharashtrian   Fast Food       XXX           None  \n",
       "1422             XXX             XXX         XXX       XXX    QUICK BITES  \n",
       "235              XXX             XXX         XXX       XXX    QUICK BITES  \n",
       "10914            XXX             XXX         XXX       XXX           None  \n",
       "3551             XXX             XXX         XXX       XXX    QUICK BITES  \n",
       "299         Desserts             XXX         XXX       XXX    QUICK BITES  "
      ]
     },
     "execution_count": 209,
     "metadata": {},
     "output_type": "execute_result"
    }
   ],
   "source": [
    "low_cost_cuisine=df.sort_values(by='COST',ascending=True)\n",
    "low_cost_cuisine.head(10)"
   ]
  },
  {
   "cell_type": "code",
   "execution_count": 210,
   "metadata": {},
   "outputs": [
    {
     "data": {
      "text/plain": [
       "<matplotlib.axes._subplots.AxesSubplot at 0x1d94c9ad1c0>"
      ]
     },
     "execution_count": 210,
     "metadata": {},
     "output_type": "execute_result"
    },
    {
     "data": {
      "image/png": "[encoded data removed]",
      "text/plain": [
       "<Figure size 720x360 with 1 Axes>"
      ]
     },
     "metadata": {
      "needs_background": "light"
     },
     "output_type": "display_data"
    }
   ],
   "source": [
    "plt.figure(figsize=(10,5))\n",
    "sns.barplot(x='CUISINES1',y='COST',data=low_cost_cuisine.head())\n"
   ]
  },
  {
   "cell_type": "markdown",
   "metadata": {},
   "source": [
    "FINDINGS:"
   ]
  },
  {
   "cell_type": "markdown",
   "metadata": {},
   "source": [
    "Beverages is the cheapest of all that cost only 20 rs fllowed by south indian,streetfood & tea"
   ]
  },
  {
   "cell_type": "code",
   "execution_count": 211,
   "metadata": {},
   "outputs": [
    {
     "data": {
      "text/plain": [
       "<matplotlib.axes._subplots.AxesSubplot at 0x1d94c93c9d0>"
      ]
     },
     "execution_count": 211,
     "metadata": {},
     "output_type": "execute_result"
    },
    {
     "data": {
      "image/png": "[encoded data removed]",
      "text/plain": [
       "<Figure size 1440x432 with 1 Axes>"
      ]
     },
     "metadata": {
      "needs_background": "light"
     },
     "output_type": "display_data"
    }
   ],
   "source": [
    "plt.figure(figsize=(20,6))\n",
    "\n",
    "sns.barplot(x='CITY',y='COST',data=costly_cuisine.head(10),hue='LOCALITY')\n"
   ]
  },
  {
   "cell_type": "markdown",
   "metadata": {},
   "source": [
    "Observation:"
   ]
  },
  {
   "cell_type": "markdown",
   "metadata": {},
   "source": [
    "1.In Bangalore ,resturant offers most costly food in Nagawara,followed by Mumbai(locality is 'Colaba'),Hyderabad City(locality is 'Falaknuma')"
   ]
  },
  {
   "cell_type": "code",
   "execution_count": 212,
   "metadata": {},
   "outputs": [
    {
     "data": {
      "text/plain": [
       "<matplotlib.axes._subplots.AxesSubplot at 0x1d94a8388e0>"
      ]
     },
     "execution_count": 212,
     "metadata": {},
     "output_type": "execute_result"
    },
    {
     "data": {
      "image/png": "[encoded data removed]",
      "text/plain": [
       "<Figure size 720x360 with 1 Axes>"
      ]
     },
     "metadata": {
      "needs_background": "light"
     },
     "output_type": "display_data"
    }
   ],
   "source": [
    "plt.figure(figsize=(10,5))\n",
    "sns.barplot(x='CITY',y='COST',data=low_cost_cuisine.head(),hue='LOCALITY')\n"
   ]
  },
  {
   "cell_type": "markdown",
   "metadata": {},
   "source": [
    "Observation:"
   ]
  },
  {
   "cell_type": "markdown",
   "metadata": {},
   "source": [
    "Kochi offers the cheapest cuisine(locality is thevera) ,followed by Kaloor in Kochi ,KashmiriGate in NewDelhi,Jogeshwari & Girgaum in Mumbai"
   ]
  },
  {
   "cell_type": "markdown",
   "metadata": {},
   "source": [
    "# converting categorical data into numerical variables"
   ]
  },
  {
   "cell_type": "code",
   "execution_count": 213,
   "metadata": {},
   "outputs": [
    {
     "data": {
      "text/plain": [
       "CITY          object\n",
       "LOCALITY      object\n",
       "RATING       float64\n",
       "VOTES        float64\n",
       "COST           int64\n",
       "CUISINES1     object\n",
       "CUISINES2     object\n",
       "CUISINES3     object\n",
       "CUISINES4     object\n",
       "CUISINES5     object\n",
       "TITLE1        object\n",
       "dtype: object"
      ]
     },
     "execution_count": 213,
     "metadata": {},
     "output_type": "execute_result"
    }
   ],
   "source": [
    "df.dtypes"
   ]
  },
  {
   "cell_type": "code",
   "execution_count": 214,
   "metadata": {},
   "outputs": [],
   "source": [
    "#transform non numeric column into numeric one\n",
    "from sklearn.preprocessing import LabelEncoder\n",
    "le=LabelEncoder()\n",
    "for col in df.columns:\n",
    "    if df[col].dtype==np.number:\n",
    "        continue\n",
    "    df[col]=le.fit_transform(df[col])"
   ]
  },
  {
   "cell_type": "markdown",
   "metadata": {},
   "source": [
    "# checking correlation"
   ]
  },
  {
   "cell_type": "code",
   "execution_count": 215,
   "metadata": {},
   "outputs": [
    {
     "data": {
      "text/html": [
       "<div>\n",
       "<style scoped>\n",
       "    .dataframe tbody tr th:only-of-type {\n",
       "        vertical-align: middle;\n",
       "    }\n",
       "\n",
       "    .dataframe tbody tr th {\n",
       "        vertical-align: top;\n",
       "    }\n",
       "\n",
       "    .dataframe thead th {\n",
       "        text-align: right;\n",
       "    }\n",
       "</style>\n",
       "<table border=\"1\" class=\"dataframe\">\n",
       "  <thead>\n",
       "    <tr style=\"text-align: right;\">\n",
       "      <th></th>\n",
       "      <th>CITY</th>\n",
       "      <th>LOCALITY</th>\n",
       "      <th>RATING</th>\n",
       "      <th>VOTES</th>\n",
       "      <th>COST</th>\n",
       "      <th>CUISINES1</th>\n",
       "      <th>CUISINES2</th>\n",
       "      <th>CUISINES3</th>\n",
       "      <th>CUISINES4</th>\n",
       "      <th>CUISINES5</th>\n",
       "      <th>TITLE1</th>\n",
       "    </tr>\n",
       "  </thead>\n",
       "  <tbody>\n",
       "    <tr>\n",
       "      <th>CITY</th>\n",
       "      <td>1.000000</td>\n",
       "      <td>0.043072</td>\n",
       "      <td>0.059474</td>\n",
       "      <td>0.043373</td>\n",
       "      <td>0.047501</td>\n",
       "      <td>0.013487</td>\n",
       "      <td>0.009472</td>\n",
       "      <td>-0.000553</td>\n",
       "      <td>0.000690</td>\n",
       "      <td>-0.004563</td>\n",
       "      <td>-0.020988</td>\n",
       "    </tr>\n",
       "    <tr>\n",
       "      <th>LOCALITY</th>\n",
       "      <td>0.043072</td>\n",
       "      <td>1.000000</td>\n",
       "      <td>-0.027201</td>\n",
       "      <td>-0.028965</td>\n",
       "      <td>-0.015322</td>\n",
       "      <td>0.019262</td>\n",
       "      <td>0.022044</td>\n",
       "      <td>0.015105</td>\n",
       "      <td>0.016441</td>\n",
       "      <td>0.014327</td>\n",
       "      <td>0.028719</td>\n",
       "    </tr>\n",
       "    <tr>\n",
       "      <th>RATING</th>\n",
       "      <td>0.059474</td>\n",
       "      <td>-0.027201</td>\n",
       "      <td>1.000000</td>\n",
       "      <td>0.332369</td>\n",
       "      <td>0.328600</td>\n",
       "      <td>-0.078192</td>\n",
       "      <td>-0.052648</td>\n",
       "      <td>-0.085551</td>\n",
       "      <td>-0.128806</td>\n",
       "      <td>-0.101791</td>\n",
       "      <td>-0.158810</td>\n",
       "    </tr>\n",
       "    <tr>\n",
       "      <th>VOTES</th>\n",
       "      <td>0.043373</td>\n",
       "      <td>-0.028965</td>\n",
       "      <td>0.332369</td>\n",
       "      <td>1.000000</td>\n",
       "      <td>0.300048</td>\n",
       "      <td>-0.040369</td>\n",
       "      <td>-0.086168</td>\n",
       "      <td>-0.146995</td>\n",
       "      <td>-0.139597</td>\n",
       "      <td>-0.101055</td>\n",
       "      <td>-0.143898</td>\n",
       "    </tr>\n",
       "    <tr>\n",
       "      <th>COST</th>\n",
       "      <td>0.047501</td>\n",
       "      <td>-0.015322</td>\n",
       "      <td>0.328600</td>\n",
       "      <td>0.300048</td>\n",
       "      <td>1.000000</td>\n",
       "      <td>-0.054690</td>\n",
       "      <td>-0.125934</td>\n",
       "      <td>-0.236314</td>\n",
       "      <td>-0.222913</td>\n",
       "      <td>-0.146972</td>\n",
       "      <td>-0.376683</td>\n",
       "    </tr>\n",
       "    <tr>\n",
       "      <th>CUISINES1</th>\n",
       "      <td>0.013487</td>\n",
       "      <td>0.019262</td>\n",
       "      <td>-0.078192</td>\n",
       "      <td>-0.040369</td>\n",
       "      <td>-0.054690</td>\n",
       "      <td>1.000000</td>\n",
       "      <td>0.038182</td>\n",
       "      <td>-0.018597</td>\n",
       "      <td>0.035213</td>\n",
       "      <td>0.032903</td>\n",
       "      <td>0.209399</td>\n",
       "    </tr>\n",
       "    <tr>\n",
       "      <th>CUISINES2</th>\n",
       "      <td>0.009472</td>\n",
       "      <td>0.022044</td>\n",
       "      <td>-0.052648</td>\n",
       "      <td>-0.086168</td>\n",
       "      <td>-0.125934</td>\n",
       "      <td>0.038182</td>\n",
       "      <td>1.000000</td>\n",
       "      <td>0.264758</td>\n",
       "      <td>0.157447</td>\n",
       "      <td>0.102928</td>\n",
       "      <td>0.142549</td>\n",
       "    </tr>\n",
       "    <tr>\n",
       "      <th>CUISINES3</th>\n",
       "      <td>-0.000553</td>\n",
       "      <td>0.015105</td>\n",
       "      <td>-0.085551</td>\n",
       "      <td>-0.146995</td>\n",
       "      <td>-0.236314</td>\n",
       "      <td>-0.018597</td>\n",
       "      <td>0.264758</td>\n",
       "      <td>1.000000</td>\n",
       "      <td>0.388728</td>\n",
       "      <td>0.215521</td>\n",
       "      <td>0.179738</td>\n",
       "    </tr>\n",
       "    <tr>\n",
       "      <th>CUISINES4</th>\n",
       "      <td>0.000690</td>\n",
       "      <td>0.016441</td>\n",
       "      <td>-0.128806</td>\n",
       "      <td>-0.139597</td>\n",
       "      <td>-0.222913</td>\n",
       "      <td>0.035213</td>\n",
       "      <td>0.157447</td>\n",
       "      <td>0.388728</td>\n",
       "      <td>1.000000</td>\n",
       "      <td>0.415354</td>\n",
       "      <td>0.152737</td>\n",
       "    </tr>\n",
       "    <tr>\n",
       "      <th>CUISINES5</th>\n",
       "      <td>-0.004563</td>\n",
       "      <td>0.014327</td>\n",
       "      <td>-0.101791</td>\n",
       "      <td>-0.101055</td>\n",
       "      <td>-0.146972</td>\n",
       "      <td>0.032903</td>\n",
       "      <td>0.102928</td>\n",
       "      <td>0.215521</td>\n",
       "      <td>0.415354</td>\n",
       "      <td>1.000000</td>\n",
       "      <td>0.108138</td>\n",
       "    </tr>\n",
       "    <tr>\n",
       "      <th>TITLE1</th>\n",
       "      <td>-0.020988</td>\n",
       "      <td>0.028719</td>\n",
       "      <td>-0.158810</td>\n",
       "      <td>-0.143898</td>\n",
       "      <td>-0.376683</td>\n",
       "      <td>0.209399</td>\n",
       "      <td>0.142549</td>\n",
       "      <td>0.179738</td>\n",
       "      <td>0.152737</td>\n",
       "      <td>0.108138</td>\n",
       "      <td>1.000000</td>\n",
       "    </tr>\n",
       "  </tbody>\n",
       "</table>\n",
       "</div>"
      ],
      "text/plain": [
       "               CITY  LOCALITY    RATING     VOTES      COST  CUISINES1  \\\n",
       "CITY       1.000000  0.043072  0.059474  0.043373  0.047501   0.013487   \n",
       "LOCALITY   0.043072  1.000000 -0.027201 -0.028965 -0.015322   0.019262   \n",
       "RATING     0.059474 -0.027201  1.000000  0.332369  0.328600  -0.078192   \n",
       "VOTES      0.043373 -0.028965  0.332369  1.000000  0.300048  -0.040369   \n",
       "COST       0.047501 -0.015322  0.328600  0.300048  1.000000  -0.054690   \n",
       "CUISINES1  0.013487  0.019262 -0.078192 -0.040369 -0.054690   1.000000   \n",
       "CUISINES2  0.009472  0.022044 -0.052648 -0.086168 -0.125934   0.038182   \n",
       "CUISINES3 -0.000553  0.015105 -0.085551 -0.146995 -0.236314  -0.018597   \n",
       "CUISINES4  0.000690  0.016441 -0.128806 -0.139597 -0.222913   0.035213   \n",
       "CUISINES5 -0.004563  0.014327 -0.101791 -0.101055 -0.146972   0.032903   \n",
       "TITLE1    -0.020988  0.028719 -0.158810 -0.143898 -0.376683   0.209399   \n",
       "\n",
       "           CUISINES2  CUISINES3  CUISINES4  CUISINES5    TITLE1  \n",
       "CITY        0.009472  -0.000553   0.000690  -0.004563 -0.020988  \n",
       "LOCALITY    0.022044   0.015105   0.016441   0.014327  0.028719  \n",
       "RATING     -0.052648  -0.085551  -0.128806  -0.101791 -0.158810  \n",
       "VOTES      -0.086168  -0.146995  -0.139597  -0.101055 -0.143898  \n",
       "COST       -0.125934  -0.236314  -0.222913  -0.146972 -0.376683  \n",
       "CUISINES1   0.038182  -0.018597   0.035213   0.032903  0.209399  \n",
       "CUISINES2   1.000000   0.264758   0.157447   0.102928  0.142549  \n",
       "CUISINES3   0.264758   1.000000   0.388728   0.215521  0.179738  \n",
       "CUISINES4   0.157447   0.388728   1.000000   0.415354  0.152737  \n",
       "CUISINES5   0.102928   0.215521   0.415354   1.000000  0.108138  \n",
       "TITLE1      0.142549   0.179738   0.152737   0.108138  1.000000  "
      ]
     },
     "execution_count": 215,
     "metadata": {},
     "output_type": "execute_result"
    }
   ],
   "source": [
    "df.corr()"
   ]
  },
  {
   "cell_type": "raw",
   "metadata": {},
   "source": [
    "Here we see correlation between the columns.\n",
    "\n",
    "For better clarity we see it via visualization with the help of heatmap"
   ]
  },
  {
   "cell_type": "code",
   "execution_count": 60,
   "metadata": {},
   "outputs": [
    {
     "data": {
      "text/plain": [
       "<matplotlib.axes._subplots.AxesSubplot at 0x1d92db931c0>"
      ]
     },
     "execution_count": 60,
     "metadata": {},
     "output_type": "execute_result"
    },
    {
     "data": {
      "image/png": "[encoded data removed]",
      "text/plain": [
       "<Figure size 720x432 with 2 Axes>"
      ]
     },
     "metadata": {
      "needs_background": "light"
     },
     "output_type": "display_data"
    }
   ],
   "source": [
    "plt.figure(figsize=(10,6))\n",
    "sns.heatmap(df.corr(),fmt='.0%',annot=True)"
   ]
  },
  {
   "cell_type": "markdown",
   "metadata": {},
   "source": [
    "Observation:"
   ]
  },
  {
   "cell_type": "markdown",
   "metadata": {},
   "source": [
    "1.Cost is negatively correlated with Title & positively correlated with votes & rating"
   ]
  },
  {
   "cell_type": "code",
   "execution_count": null,
   "metadata": {},
   "outputs": [],
   "source": []
  },
  {
   "cell_type": "code",
   "execution_count": 63,
   "metadata": {},
   "outputs": [
    {
     "data": {
      "text/plain": [
       "Text(0.5, 1.0, 'correlation with target variable')"
      ]
     },
     "execution_count": 63,
     "metadata": {},
     "output_type": "execute_result"
    },
    {
     "data": {
      "image/png": "[encoded data removed]",
      "text/plain": [
       "<Figure size 576x432 with 1 Axes>"
      ]
     },
     "metadata": {
      "needs_background": "light"
     },
     "output_type": "display_data"
    }
   ],
   "source": [
    "#Checking correlation with the traget variable .ie Cost\n",
    "plt.figure(figsize=(8,6))\n",
    "df.drop('COST',axis=1).corrwith(df['COST']).plot(kind='bar',grid=True)\n",
    "plt.xticks(rotation=20)\n",
    "plt.title('correlation with target variable')"
   ]
  },
  {
   "cell_type": "markdown",
   "metadata": {},
   "source": [
    "observation:"
   ]
  },
  {
   "cell_type": "markdown",
   "metadata": {},
   "source": [
    "1.Cost is positively correated with City,Rating & Votes"
   ]
  },
  {
   "cell_type": "markdown",
   "metadata": {},
   "source": [
    "2.Cost is negatively correalted with Locality,Cuisines1,Cuisines2,Cuisines3,Cuisines4,Cuisines5 & Title1"
   ]
  },
  {
   "cell_type": "markdown",
   "metadata": {},
   "source": [
    "Locality is very less correlated with target variable,so we can drop it"
   ]
  },
  {
   "cell_type": "code",
   "execution_count": null,
   "metadata": {},
   "outputs": [],
   "source": []
  },
  {
   "cell_type": "code",
   "execution_count": 64,
   "metadata": {},
   "outputs": [],
   "source": [
    "df.drop('LOCALITY',axis=1,inplace=True)"
   ]
  },
  {
   "cell_type": "markdown",
   "metadata": {},
   "source": [
    "# checking skewness"
   ]
  },
  {
   "cell_type": "code",
   "execution_count": 65,
   "metadata": {},
   "outputs": [
    {
     "data": {
      "image/png": "[encoded data removed]",
      "text/plain": [
       "<Figure size 432x288 with 1 Axes>"
      ]
     },
     "metadata": {
      "needs_background": "light"
     },
     "output_type": "display_data"
    },
    {
     "data": {
      "image/png": "[encoded data removed]",
      "text/plain": [
       "<Figure size 432x288 with 1 Axes>"
      ]
     },
     "metadata": {
      "needs_background": "light"
     },
     "output_type": "display_data"
    },
    {
     "data": {
      "image/png": "[encoded data removed]",
      "text/plain": [
       "<Figure size 432x288 with 1 Axes>"
      ]
     },
     "metadata": {
      "needs_background": "light"
     },
     "output_type": "display_data"
    },
    {
     "data": {
      "image/png": "[encoded data removed]",
      "text/plain": [
       "<Figure size 432x288 with 1 Axes>"
      ]
     },
     "metadata": {
      "needs_background": "light"
     },
     "output_type": "display_data"
    },
    {
     "data": {
      "image/png": "[encoded data removed]",
      "text/plain": [
       "<Figure size 432x288 with 1 Axes>"
      ]
     },
     "metadata": {
      "needs_background": "light"
     },
     "output_type": "display_data"
    },
    {
     "data": {
      "image/png": "[encoded data removed]",
      "text/plain": [
       "<Figure size 432x288 with 1 Axes>"
      ]
     },
     "metadata": {
      "needs_background": "light"
     },
     "output_type": "display_data"
    },
    {
     "data": {
      "image/png": "[encoded data removed]",
      "text/plain": [
       "<Figure size 432x288 with 1 Axes>"
      ]
     },
     "metadata": {
      "needs_background": "light"
     },
     "output_type": "display_data"
    },
    {
     "data": {
      "image/png": "[encoded data removed]",
      "text/plain": [
       "<Figure size 432x288 with 1 Axes>"
      ]
     },
     "metadata": {
      "needs_background": "light"
     },
     "output_type": "display_data"
    },
    {
     "data": {
      "image/png": "[encoded data removed]",
      "text/plain": [
       "<Figure size 432x288 with 1 Axes>"
      ]
     },
     "metadata": {
      "needs_background": "light"
     },
     "output_type": "display_data"
    },
    {
     "data": {
      "image/png": "[encoded data removed]",
      "text/plain": [
       "<Figure size 432x288 with 1 Axes>"
      ]
     },
     "metadata": {
      "needs_background": "light"
     },
     "output_type": "display_data"
    }
   ],
   "source": [
    "for i in df.columns:\n",
    "    plt.figure()\n",
    "    sns.distplot(df[i])"
   ]
  },
  {
   "cell_type": "code",
   "execution_count": 66,
   "metadata": {},
   "outputs": [
    {
     "data": {
      "text/plain": [
       "CITY          0.266332\n",
       "RATING       -0.610531\n",
       "VOTES        14.609221\n",
       "COST          1.534165\n",
       "CUISINES1     0.026008\n",
       "CUISINES2     0.055174\n",
       "CUISINES3    -0.823537\n",
       "CUISINES4    -2.108741\n",
       "CUISINES5    -4.094366\n",
       "TITLE1        0.087325\n",
       "dtype: float64"
      ]
     },
     "execution_count": 66,
     "metadata": {},
     "output_type": "execute_result"
    }
   ],
   "source": [
    "df.skew()"
   ]
  },
  {
   "cell_type": "code",
   "execution_count": 67,
   "metadata": {},
   "outputs": [],
   "source": [
    "##treating skewness via squareroot method and cube root method\n",
    "#treating skewness via squareroot method and cube root method\n",
    "df.skew()\n",
    "for col in df.skew().index:\n",
    "    if col in df.describe().columns:\n",
    "        if df[col].skew()>0.55:\n",
    "            df[col]=np.sqrt(df[col])\n",
    "        if df[col].skew()<-0.55:\n",
    "            df[col]=np.cbrt(df[col])"
   ]
  },
  {
   "cell_type": "code",
   "execution_count": 68,
   "metadata": {},
   "outputs": [
    {
     "data": {
      "text/plain": [
       "CITY         0.266332\n",
       "RATING      -0.904178\n",
       "VOTES        2.287606\n",
       "COST         0.778166\n",
       "CUISINES1    0.026008\n",
       "CUISINES2    0.055174\n",
       "CUISINES3   -1.247220\n",
       "CUISINES4   -2.632257\n",
       "CUISINES5   -4.753390\n",
       "TITLE1       0.087325\n",
       "dtype: float64"
      ]
     },
     "execution_count": 68,
     "metadata": {},
     "output_type": "execute_result"
    }
   ],
   "source": [
    "#again checking skewness\n",
    "df.skew()"
   ]
  },
  {
   "cell_type": "markdown",
   "metadata": {},
   "source": [
    "# checking Outliers"
   ]
  },
  {
   "cell_type": "code",
   "execution_count": 69,
   "metadata": {},
   "outputs": [
    {
     "data": {
      "text/plain": [
       "CITY             AxesSubplot(0.125,0.71587;0.168478x0.16413)\n",
       "RATING        AxesSubplot(0.327174,0.71587;0.168478x0.16413)\n",
       "VOTES         AxesSubplot(0.529348,0.71587;0.168478x0.16413)\n",
       "COST          AxesSubplot(0.731522,0.71587;0.168478x0.16413)\n",
       "CUISINES1       AxesSubplot(0.125,0.518913;0.168478x0.16413)\n",
       "CUISINES2    AxesSubplot(0.327174,0.518913;0.168478x0.16413)\n",
       "CUISINES3    AxesSubplot(0.529348,0.518913;0.168478x0.16413)\n",
       "CUISINES4    AxesSubplot(0.731522,0.518913;0.168478x0.16413)\n",
       "CUISINES5       AxesSubplot(0.125,0.321957;0.168478x0.16413)\n",
       "TITLE1       AxesSubplot(0.327174,0.321957;0.168478x0.16413)\n",
       "dtype: object"
      ]
     },
     "execution_count": 69,
     "metadata": {},
     "output_type": "execute_result"
    },
    {
     "data": {
      "image/png": "[encoded data removed]",
      "text/plain": [
       "<Figure size 1080x720 with 16 Axes>"
      ]
     },
     "metadata": {
      "needs_background": "light"
     },
     "output_type": "display_data"
    }
   ],
   "source": [
    "df.plot(kind='box',subplots=True,layout=(4,4),figsize=(15,10))"
   ]
  },
  {
   "cell_type": "markdown",
   "metadata": {},
   "source": [
    "From above we see that outliers are present in certain columns"
   ]
  },
  {
   "cell_type": "code",
   "execution_count": 70,
   "metadata": {},
   "outputs": [
    {
     "name": "stdout",
     "output_type": "stream",
     "text": [
      "(12690, 10)\n",
      "(11344, 10)\n"
     ]
    }
   ],
   "source": [
    "#Removing outliers\n",
    "from scipy.stats import zscore\n",
    "z_score=np.abs(zscore(df))\n",
    "print(df.shape)\n",
    "\n",
    "df_new=df.loc[(z_score<3).all(axis=1)]\n",
    "print(df_new.shape)"
   ]
  },
  {
   "cell_type": "markdown",
   "metadata": {},
   "source": [
    "Outliers have been removed"
   ]
  },
  {
   "cell_type": "markdown",
   "metadata": {},
   "source": [
    "# Feature Selection"
   ]
  },
  {
   "cell_type": "code",
   "execution_count": 71,
   "metadata": {},
   "outputs": [
    {
     "data": {
      "text/html": [
       "<div>\n",
       "<style scoped>\n",
       "    .dataframe tbody tr th:only-of-type {\n",
       "        vertical-align: middle;\n",
       "    }\n",
       "\n",
       "    .dataframe tbody tr th {\n",
       "        vertical-align: top;\n",
       "    }\n",
       "\n",
       "    .dataframe thead th {\n",
       "        text-align: right;\n",
       "    }\n",
       "</style>\n",
       "<table border=\"1\" class=\"dataframe\">\n",
       "  <thead>\n",
       "    <tr style=\"text-align: right;\">\n",
       "      <th></th>\n",
       "      <th>CITY</th>\n",
       "      <th>RATING</th>\n",
       "      <th>VOTES</th>\n",
       "      <th>COST</th>\n",
       "      <th>CUISINES1</th>\n",
       "      <th>CUISINES2</th>\n",
       "      <th>CUISINES3</th>\n",
       "      <th>CUISINES4</th>\n",
       "      <th>CUISINES5</th>\n",
       "      <th>TITLE1</th>\n",
       "    </tr>\n",
       "  </thead>\n",
       "  <tbody>\n",
       "    <tr>\n",
       "      <th>0</th>\n",
       "      <td>320</td>\n",
       "      <td>1.532619</td>\n",
       "      <td>7.000000</td>\n",
       "      <td>6.000000</td>\n",
       "      <td>59</td>\n",
       "      <td>32</td>\n",
       "      <td>4.041240</td>\n",
       "      <td>4.396830</td>\n",
       "      <td>4.272659</td>\n",
       "      <td>4</td>\n",
       "    </tr>\n",
       "    <tr>\n",
       "      <th>1</th>\n",
       "      <td>67</td>\n",
       "      <td>1.613429</td>\n",
       "      <td>5.477226</td>\n",
       "      <td>6.557439</td>\n",
       "      <td>6</td>\n",
       "      <td>60</td>\n",
       "      <td>3.448217</td>\n",
       "      <td>4.396830</td>\n",
       "      <td>4.272659</td>\n",
       "      <td>4</td>\n",
       "    </tr>\n",
       "    <tr>\n",
       "      <th>2</th>\n",
       "      <td>67</td>\n",
       "      <td>1.560491</td>\n",
       "      <td>14.866069</td>\n",
       "      <td>5.291503</td>\n",
       "      <td>72</td>\n",
       "      <td>23</td>\n",
       "      <td>2.289428</td>\n",
       "      <td>3.174802</td>\n",
       "      <td>4.272659</td>\n",
       "      <td>4</td>\n",
       "    </tr>\n",
       "    <tr>\n",
       "      <th>3</th>\n",
       "      <td>222</td>\n",
       "      <td>1.600521</td>\n",
       "      <td>4.898979</td>\n",
       "      <td>5.291503</td>\n",
       "      <td>100</td>\n",
       "      <td>23</td>\n",
       "      <td>4.530655</td>\n",
       "      <td>4.396830</td>\n",
       "      <td>4.272659</td>\n",
       "      <td>21</td>\n",
       "    </tr>\n",
       "    <tr>\n",
       "      <th>4</th>\n",
       "      <td>222</td>\n",
       "      <td>1.560491</td>\n",
       "      <td>12.845233</td>\n",
       "      <td>3.741657</td>\n",
       "      <td>28</td>\n",
       "      <td>98</td>\n",
       "      <td>4.530655</td>\n",
       "      <td>4.396830</td>\n",
       "      <td>4.272659</td>\n",
       "      <td>8</td>\n",
       "    </tr>\n",
       "  </tbody>\n",
       "</table>\n",
       "</div>"
      ],
      "text/plain": [
       "   CITY    RATING      VOTES      COST  CUISINES1  CUISINES2  CUISINES3  \\\n",
       "0   320  1.532619   7.000000  6.000000         59         32   4.041240   \n",
       "1    67  1.613429   5.477226  6.557439          6         60   3.448217   \n",
       "2    67  1.560491  14.866069  5.291503         72         23   2.289428   \n",
       "3   222  1.600521   4.898979  5.291503        100         23   4.530655   \n",
       "4   222  1.560491  12.845233  3.741657         28         98   4.530655   \n",
       "\n",
       "   CUISINES4  CUISINES5  TITLE1  \n",
       "0   4.396830   4.272659       4  \n",
       "1   4.396830   4.272659       4  \n",
       "2   3.174802   4.272659       4  \n",
       "3   4.396830   4.272659      21  \n",
       "4   4.396830   4.272659       8  "
      ]
     },
     "execution_count": 71,
     "metadata": {},
     "output_type": "execute_result"
    }
   ],
   "source": [
    "df_new.head()"
   ]
  },
  {
   "cell_type": "code",
   "execution_count": 72,
   "metadata": {},
   "outputs": [
    {
     "data": {
      "text/plain": [
       "(11344, 10)"
      ]
     },
     "execution_count": 72,
     "metadata": {},
     "output_type": "execute_result"
    }
   ],
   "source": [
    "df_new.shape"
   ]
  },
  {
   "cell_type": "code",
   "execution_count": 73,
   "metadata": {},
   "outputs": [
    {
     "data": {
      "text/html": [
       "<div>\n",
       "<style scoped>\n",
       "    .dataframe tbody tr th:only-of-type {\n",
       "        vertical-align: middle;\n",
       "    }\n",
       "\n",
       "    .dataframe tbody tr th {\n",
       "        vertical-align: top;\n",
       "    }\n",
       "\n",
       "    .dataframe thead th {\n",
       "        text-align: right;\n",
       "    }\n",
       "</style>\n",
       "<table border=\"1\" class=\"dataframe\">\n",
       "  <thead>\n",
       "    <tr style=\"text-align: right;\">\n",
       "      <th></th>\n",
       "      <th>CITY</th>\n",
       "      <th>RATING</th>\n",
       "      <th>VOTES</th>\n",
       "      <th>CUISINES1</th>\n",
       "      <th>CUISINES2</th>\n",
       "      <th>CUISINES3</th>\n",
       "      <th>CUISINES4</th>\n",
       "      <th>CUISINES5</th>\n",
       "      <th>TITLE1</th>\n",
       "    </tr>\n",
       "  </thead>\n",
       "  <tbody>\n",
       "    <tr>\n",
       "      <th>0</th>\n",
       "      <td>320</td>\n",
       "      <td>1.532619</td>\n",
       "      <td>7.000000</td>\n",
       "      <td>59</td>\n",
       "      <td>32</td>\n",
       "      <td>4.041240</td>\n",
       "      <td>4.396830</td>\n",
       "      <td>4.272659</td>\n",
       "      <td>4</td>\n",
       "    </tr>\n",
       "    <tr>\n",
       "      <th>1</th>\n",
       "      <td>67</td>\n",
       "      <td>1.613429</td>\n",
       "      <td>5.477226</td>\n",
       "      <td>6</td>\n",
       "      <td>60</td>\n",
       "      <td>3.448217</td>\n",
       "      <td>4.396830</td>\n",
       "      <td>4.272659</td>\n",
       "      <td>4</td>\n",
       "    </tr>\n",
       "    <tr>\n",
       "      <th>2</th>\n",
       "      <td>67</td>\n",
       "      <td>1.560491</td>\n",
       "      <td>14.866069</td>\n",
       "      <td>72</td>\n",
       "      <td>23</td>\n",
       "      <td>2.289428</td>\n",
       "      <td>3.174802</td>\n",
       "      <td>4.272659</td>\n",
       "      <td>4</td>\n",
       "    </tr>\n",
       "    <tr>\n",
       "      <th>3</th>\n",
       "      <td>222</td>\n",
       "      <td>1.600521</td>\n",
       "      <td>4.898979</td>\n",
       "      <td>100</td>\n",
       "      <td>23</td>\n",
       "      <td>4.530655</td>\n",
       "      <td>4.396830</td>\n",
       "      <td>4.272659</td>\n",
       "      <td>21</td>\n",
       "    </tr>\n",
       "    <tr>\n",
       "      <th>4</th>\n",
       "      <td>222</td>\n",
       "      <td>1.560491</td>\n",
       "      <td>12.845233</td>\n",
       "      <td>28</td>\n",
       "      <td>98</td>\n",
       "      <td>4.530655</td>\n",
       "      <td>4.396830</td>\n",
       "      <td>4.272659</td>\n",
       "      <td>8</td>\n",
       "    </tr>\n",
       "  </tbody>\n",
       "</table>\n",
       "</div>"
      ],
      "text/plain": [
       "   CITY    RATING      VOTES  CUISINES1  CUISINES2  CUISINES3  CUISINES4  \\\n",
       "0   320  1.532619   7.000000         59         32   4.041240   4.396830   \n",
       "1    67  1.613429   5.477226          6         60   3.448217   4.396830   \n",
       "2    67  1.560491  14.866069         72         23   2.289428   3.174802   \n",
       "3   222  1.600521   4.898979        100         23   4.530655   4.396830   \n",
       "4   222  1.560491  12.845233         28         98   4.530655   4.396830   \n",
       "\n",
       "   CUISINES5  TITLE1  \n",
       "0   4.272659       4  \n",
       "1   4.272659       4  \n",
       "2   4.272659       4  \n",
       "3   4.272659      21  \n",
       "4   4.272659       8  "
      ]
     },
     "execution_count": 73,
     "metadata": {},
     "output_type": "execute_result"
    }
   ],
   "source": [
    "#spliting the data into input and output variable\n",
    "x=df_new.drop('COST',axis=1)\n",
    "x.head()"
   ]
  },
  {
   "cell_type": "code",
   "execution_count": 74,
   "metadata": {},
   "outputs": [
    {
     "data": {
      "text/plain": [
       "0    6.000000\n",
       "1    6.557439\n",
       "2    5.291503\n",
       "3    5.291503\n",
       "4    3.741657\n",
       "Name: COST, dtype: float64"
      ]
     },
     "execution_count": 74,
     "metadata": {},
     "output_type": "execute_result"
    }
   ],
   "source": [
    "y=df_new['COST']\n",
    "y.head()"
   ]
  },
  {
   "cell_type": "code",
   "execution_count": 75,
   "metadata": {},
   "outputs": [
    {
     "name": "stdout",
     "output_type": "stream",
     "text": [
      "(11344, 9)\n",
      "(11344,)\n"
     ]
    }
   ],
   "source": [
    "# checking the shape of input & target variable\n",
    "print(x.shape)\n",
    "print(y.shape)"
   ]
  },
  {
   "cell_type": "code",
   "execution_count": 76,
   "metadata": {},
   "outputs": [],
   "source": [
    "#scaling the input variable\n",
    "from sklearn.preprocessing import StandardScaler\n",
    "sc=StandardScaler()\n",
    "x=sc.fit_transform(x)"
   ]
  },
  {
   "cell_type": "code",
   "execution_count": 77,
   "metadata": {},
   "outputs": [],
   "source": [
    "#splitting data into training and testing data\n",
    "from sklearn.model_selection import train_test_split\n",
    "x_train,x_test,y_train,y_test=train_test_split(x,y,test_size=.20,random_state=42)"
   ]
  },
  {
   "cell_type": "code",
   "execution_count": 78,
   "metadata": {},
   "outputs": [
    {
     "name": "stdout",
     "output_type": "stream",
     "text": [
      "x_train_shape: (9075, 9)\n",
      "x_test_shape: (2269, 9)\n",
      "y_train_shape: (9075,)\n",
      "y_test_shape: (2269,)\n"
     ]
    }
   ],
   "source": [
    "print('x_train_shape:',x_train.shape)\n",
    "print('x_test_shape:',x_test.shape)\n",
    "print('y_train_shape:',y_train.shape)\n",
    "print('y_test_shape:',y_test.shape)\n"
   ]
  },
  {
   "cell_type": "code",
   "execution_count": 79,
   "metadata": {},
   "outputs": [],
   "source": [
    "#Importing all the model library\n",
    "\n",
    "from sklearn.linear_model import LinearRegression,Lasso,Ridge,ElasticNet\n",
    "from sklearn.svm import SVR\n",
    "from sklearn.tree import DecisionTreeRegressor\n",
    "from sklearn.neighbors import KNeighborsRegressor\n",
    "\n",
    "#Importing boosting model\n",
    "from sklearn.ensemble import RandomForestRegressor\n",
    "from sklearn.ensemble import AdaBoostRegressor\n",
    "from sklearn.ensemble import GradientBoostingRegressor\n",
    "\n",
    "#import error metrics\n",
    "from sklearn.metrics import mean_absolute_error,mean_squared_error,r2_score\n",
    "from sklearn.model_selection import GridSearchCV,cross_val_score"
   ]
  },
  {
   "cell_type": "code",
   "execution_count": 80,
   "metadata": {},
   "outputs": [
    {
     "name": "stdout",
     "output_type": "stream",
     "text": [
      "score of  LinearRegression() is 0.3261026753490536\n",
      "MAE: 0.658098810499534\n",
      "MSE: 0.7737719666041296\n",
      "RMSE: 0.8796430904657466\n",
      "R2_SCORE: 0.34116844469632013\n",
      "*****************************************************************************************\n",
      "\n",
      "\n",
      "score of  SVR() is 0.46995051080642036\n",
      "MAE: 0.5973058831579563\n",
      "MSE: 0.652933396313572\n",
      "RMSE: 0.8080429421222438\n",
      "R2_SCORE: 0.444056978581306\n",
      "*****************************************************************************************\n",
      "\n",
      "\n",
      "score of  DecisionTreeRegressor() is 0.991070465754728\n",
      "MAE: 0.6281438549816426\n",
      "MSE: 0.677146481810147\n",
      "RMSE: 0.8228891066298952\n",
      "R2_SCORE: 0.42344064009282345\n",
      "*****************************************************************************************\n",
      "\n",
      "\n",
      "score of  Lasso() is 0.0\n",
      "MAE: 0.8370235140259876\n",
      "MSE: 1.1748869872278398\n",
      "RMSE: 1.0839220392758142\n",
      "R2_SCORE: -0.0003627095699454408\n",
      "*****************************************************************************************\n",
      "\n",
      "\n",
      "score of  Ridge() is 0.3261026734174062\n",
      "MAE: 0.6580970574617461\n",
      "MSE: 0.7737692949066142\n",
      "RMSE: 0.879641571838561\n",
      "R2_SCORE: 0.3411707195249587\n",
      "*****************************************************************************************\n",
      "\n",
      "\n",
      "score of  ElasticNet() is 0.0\n",
      "MAE: 0.8370235140259876\n",
      "MSE: 1.1748869872278398\n",
      "RMSE: 1.0839220392758142\n",
      "R2_SCORE: -0.0003627095699454408\n",
      "*****************************************************************************************\n",
      "\n",
      "\n",
      "score of  RandomForestRegressor() is 0.9483024190069457\n",
      "MAE: 0.4740804664896626\n",
      "MSE: 0.37470109575998467\n",
      "RMSE: 0.6121283327538308\n",
      "R2_SCORE: 0.6809590986127795\n",
      "*****************************************************************************************\n",
      "\n",
      "\n",
      "score of  AdaBoostRegressor() is 0.4227415729212567\n",
      "MAE: 0.647122582022844\n",
      "MSE: 0.6981741797348817\n",
      "RMSE: 0.8355681777897491\n",
      "R2_SCORE: 0.40553651390819445\n",
      "*****************************************************************************************\n",
      "\n",
      "\n",
      "score of  GradientBoostingRegressor() is 0.683557748430481\n",
      "MAE: 0.4862344856057245\n",
      "MSE: 0.3969192994038483\n",
      "RMSE: 0.6300153168009872\n",
      "R2_SCORE: 0.6620413110803842\n",
      "*****************************************************************************************\n",
      "\n",
      "\n"
     ]
    }
   ],
   "source": [
    "#All Algorithm by using for loop\n",
    "model=[LinearRegression(),SVR(),DecisionTreeRegressor(),Lasso(),Ridge(),ElasticNet(),\n",
    "       RandomForestRegressor(),AdaBoostRegressor(),GradientBoostingRegressor()]\n",
    "\n",
    "for m in model:\n",
    "    m.fit(x_train,y_train)\n",
    "    score=m.score(x_train,y_train)\n",
    "    predm=m.predict(x_test)\n",
    "    print('score of ',m,'is',score)\n",
    "    print('MAE:',mean_absolute_error(y_test,predm))\n",
    "    print('MSE:',mean_squared_error(y_test,predm))\n",
    "    print('RMSE:',np.sqrt(mean_squared_error(y_test,predm)))\n",
    "    print('R2_SCORE:',r2_score(y_test,predm))\n",
    "    print('*****************************************************************************************')\n",
    "    print('\\n')"
   ]
  },
  {
   "cell_type": "code",
   "execution_count": 81,
   "metadata": {},
   "outputs": [
    {
     "name": "stdout",
     "output_type": "stream",
     "text": [
      "model: LinearRegression()\n",
      "score: [0.31984299 0.31874403 0.33343849 0.34507365 0.32427514 0.34871242\n",
      " 0.30335907 0.31882434 0.32203469 0.33813464]\n",
      "mean score: 0.3272439458268576\n",
      "standard deviation: 0.013191372863516156\n",
      "***************************************************************************************\n",
      "\n",
      "\n",
      "model: SVR()\n",
      "score: [0.42459635 0.422016   0.44393101 0.41941452 0.42094017 0.46478572\n",
      " 0.4050169  0.4275874  0.41550841 0.44314957]\n",
      "mean score: 0.42869460617294575\n",
      "standard deviation: 0.01639221983973429\n",
      "***************************************************************************************\n",
      "\n",
      "\n",
      "model: DecisionTreeRegressor()\n",
      "score: [0.35446591 0.41202    0.36107523 0.35848013 0.36200232 0.4748667\n",
      " 0.44966755 0.40360736 0.42616823 0.39336129]\n",
      "mean score: 0.3995714716362005\n",
      "standard deviation: 0.03963913162901556\n",
      "***************************************************************************************\n",
      "\n",
      "\n",
      "model: Lasso()\n",
      "score: [-4.01028779e-03 -1.15400236e-03 -8.97574401e-04 -4.37886505e-03\n",
      " -2.10974360e-05 -2.87793364e-04 -1.81620390e-04 -3.55293540e-03\n",
      " -1.68632005e-04 -2.40242612e-04]\n",
      "mean score: -0.0014893050812217368\n",
      "standard deviation: 0.001674505647464736\n",
      "***************************************************************************************\n",
      "\n",
      "\n",
      "model: Ridge()\n",
      "score: [0.31984228 0.3187464  0.33343959 0.345073   0.32427377 0.34871322\n",
      " 0.30335995 0.318824   0.32203522 0.33813327]\n",
      "mean score: 0.32724407089436636\n",
      "standard deviation: 0.013191113566057257\n",
      "***************************************************************************************\n",
      "\n",
      "\n",
      "model: ElasticNet()\n",
      "score: [-4.01028779e-03 -1.15400236e-03 -8.97574401e-04 -4.37886505e-03\n",
      " -2.10974360e-05 -2.87793364e-04 -1.81620390e-04 -3.55293540e-03\n",
      " -1.68632005e-04 -2.40242612e-04]\n",
      "mean score: -0.0014893050812217368\n",
      "standard deviation: 0.001674505647464736\n",
      "***************************************************************************************\n",
      "\n",
      "\n",
      "model: RandomForestRegressor()\n",
      "score: [0.66686819 0.67982296 0.66268062 0.67496652 0.67189955 0.68441425\n",
      " 0.67639213 0.69817512 0.70476257 0.68133668]\n",
      "mean score: 0.6801318582216098\n",
      "standard deviation: 0.012413802205202896\n",
      "***************************************************************************************\n",
      "\n",
      "\n",
      "model: AdaBoostRegressor()\n",
      "score: [0.38352698 0.41180235 0.39780621 0.41664844 0.39419296 0.41733236\n",
      " 0.39484792 0.41064531 0.44486872 0.45079464]\n",
      "mean score: 0.41224658925076946\n",
      "standard deviation: 0.020640122021175294\n",
      "***************************************************************************************\n",
      "\n",
      "\n",
      "model: GradientBoostingRegressor()\n",
      "score: [0.63872526 0.6501786  0.65662639 0.65313855 0.65539178 0.66411532\n",
      " 0.64480676 0.67135253 0.669288   0.67391772]\n",
      "mean score: 0.6577540920879106\n",
      "standard deviation: 0.011112831967931404\n",
      "***************************************************************************************\n",
      "\n",
      "\n"
     ]
    }
   ],
   "source": [
    "#cross validate all algorithm by using for loop\n",
    "\n",
    "model=[LinearRegression(),SVR(),DecisionTreeRegressor(),Lasso(),Ridge(),ElasticNet(),\n",
    "       RandomForestRegressor(),AdaBoostRegressor(),GradientBoostingRegressor()]\n",
    "\n",
    "for m in model:\n",
    "    score=cross_val_score(m,x,y,cv=10,scoring='r2')\n",
    "    print('model:',m)\n",
    "    print('score:',score)\n",
    "    print('mean score:',score.mean())\n",
    "    print('standard deviation:',score.std())\n",
    "    print('***************************************************************************************')\n",
    "    print('\\n')"
   ]
  },
  {
   "cell_type": "markdown",
   "metadata": {},
   "source": [
    "# RandomForestRegressor giving best score & r2_score,So,I choose it as the final model"
   ]
  },
  {
   "cell_type": "markdown",
   "metadata": {},
   "source": [
    "Using GridSEarchCV to find best parameter"
   ]
  },
  {
   "cell_type": "code",
   "execution_count": 83,
   "metadata": {},
   "outputs": [
    {
     "name": "stdout",
     "output_type": "stream",
     "text": [
      "{'max_depth': 15, 'n_estimators': 600}\n"
     ]
    }
   ],
   "source": [
    "from sklearn.model_selection import GridSearchCV\n",
    "parameters={'n_estimators':[400,500,600,700],'max_depth':[4,5,6,7,10,15]}\n",
    "rfc=RandomForestRegressor()\n",
    "clf=GridSearchCV(rfc,parameters)\n",
    "clf.fit(x,y)\n",
    "print(clf.best_params_)"
   ]
  },
  {
   "cell_type": "code",
   "execution_count": 84,
   "metadata": {},
   "outputs": [
    {
     "name": "stdout",
     "output_type": "stream",
     "text": [
      "Score: 0.8179044259385351\n",
      "\n",
      "\n",
      "MAE: 0.4648678437216653\n",
      "MSE: 0.3612150949481263\n",
      "RMSE: 0.6010117261319669\n",
      "R2_SCORE: 0.6924418135122312\n"
     ]
    }
   ],
   "source": [
    "#using RandomForestREgressor with its best parameters\n",
    "rf=RandomForestRegressor(n_estimators=600,min_samples_split=15,max_depth=15)\n",
    "rf.fit(x_train,y_train)\n",
    "print('Score:',rf.score(x_train,y_train))\n",
    "y_pred=rf.predict(x_test)\n",
    "print('\\n')\n",
    "print('MAE:',mean_absolute_error(y_test,y_pred))\n",
    "print('MSE:',mean_squared_error(y_test,y_pred))\n",
    "print('RMSE:',np.sqrt(mean_squared_error(y_test,y_pred)))\n",
    "print('R2_SCORE:',r2_score(y_test,y_pred))"
   ]
  },
  {
   "cell_type": "code",
   "execution_count": 90,
   "metadata": {},
   "outputs": [
    {
     "data": {
      "image/png": "[encoded data removed]",
      "text/plain": [
       "<Figure size 432x288 with 1 Axes>"
      ]
     },
     "metadata": {
      "needs_background": "light"
     },
     "output_type": "display_data"
    }
   ],
   "source": [
    "#plotting the distribution plot\n",
    "sns.distplot(y_test-y_pred)\n",
    "plt.show()"
   ]
  },
  {
   "cell_type": "code",
   "execution_count": 91,
   "metadata": {},
   "outputs": [
    {
     "data": {
      "image/png": "[encoded data removed]",
      "text/plain": [
       "<Figure size 432x288 with 1 Axes>"
      ]
     },
     "metadata": {
      "needs_background": "light"
     },
     "output_type": "display_data"
    }
   ],
   "source": [
    "#scatter plot between test data & predicted data\n",
    "plt.scatter(y_test,y_pred,alpha=0.5)\n",
    "plt.xlabel('y test')\n",
    "plt.ylabel('y pred')\n",
    "plt.title('scatter plot between test data and predicted data')\n",
    "plt.show()"
   ]
  },
  {
   "cell_type": "code",
   "execution_count": 92,
   "metadata": {},
   "outputs": [
    {
     "data": {
      "text/plain": [
       "['restaurant_cost_prediction_rf.pkl']"
      ]
     },
     "execution_count": 92,
     "metadata": {},
     "output_type": "execute_result"
    }
   ],
   "source": [
    "#saving the model\n",
    "\n",
    "import joblib\n",
    "joblib.dump(rf,'restaurant_cost_prediction_rf.pkl')"
   ]
  },
  {
   "cell_type": "markdown",
   "metadata": {},
   "source": [
    "# loading Test dataset"
   ]
  },
  {
   "cell_type": "code",
   "execution_count": 86,
   "metadata": {},
   "outputs": [
    {
     "data": {
      "text/html": [
       "<div>\n",
       "<style scoped>\n",
       "    .dataframe tbody tr th:only-of-type {\n",
       "        vertical-align: middle;\n",
       "    }\n",
       "\n",
       "    .dataframe tbody tr th {\n",
       "        vertical-align: top;\n",
       "    }\n",
       "\n",
       "    .dataframe thead th {\n",
       "        text-align: right;\n",
       "    }\n",
       "</style>\n",
       "<table border=\"1\" class=\"dataframe\">\n",
       "  <thead>\n",
       "    <tr style=\"text-align: right;\">\n",
       "      <th></th>\n",
       "      <th>CITY</th>\n",
       "      <th>RATING</th>\n",
       "      <th>VOTES</th>\n",
       "      <th>CUISINES1</th>\n",
       "      <th>CUISINES2</th>\n",
       "      <th>CUISINES3</th>\n",
       "      <th>CUISINES4</th>\n",
       "      <th>CUISINES5</th>\n",
       "      <th>TITLE1</th>\n",
       "    </tr>\n",
       "  </thead>\n",
       "  <tbody>\n",
       "    <tr>\n",
       "      <th>0</th>\n",
       "      <td>Noida</td>\n",
       "      <td>4.3</td>\n",
       "      <td>564.0</td>\n",
       "      <td>North Indian</td>\n",
       "      <td>Chinese</td>\n",
       "      <td>Mughlai</td>\n",
       "      <td>Kebab</td>\n",
       "      <td>XXX</td>\n",
       "      <td>CASUAL DINING</td>\n",
       "    </tr>\n",
       "    <tr>\n",
       "      <th>1</th>\n",
       "      <td>Mumbai</td>\n",
       "      <td>4.2</td>\n",
       "      <td>61.0</td>\n",
       "      <td>South Indian</td>\n",
       "      <td>Fast Food</td>\n",
       "      <td>Pizza</td>\n",
       "      <td>North Indian</td>\n",
       "      <td>XXX</td>\n",
       "      <td>QUICK BITES</td>\n",
       "    </tr>\n",
       "    <tr>\n",
       "      <th>2</th>\n",
       "      <td>Mumbai</td>\n",
       "      <td>3.8</td>\n",
       "      <td>350.0</td>\n",
       "      <td>North Indian</td>\n",
       "      <td>Seafood</td>\n",
       "      <td>Biryani</td>\n",
       "      <td>Chinese</td>\n",
       "      <td>XXX</td>\n",
       "      <td>CASUAL DINING</td>\n",
       "    </tr>\n",
       "    <tr>\n",
       "      <th>3</th>\n",
       "      <td>Faridabad</td>\n",
       "      <td>3.8</td>\n",
       "      <td>1445.0</td>\n",
       "      <td>Biryani</td>\n",
       "      <td>XXX</td>\n",
       "      <td>XXX</td>\n",
       "      <td>XXX</td>\n",
       "      <td>XXX</td>\n",
       "      <td>None</td>\n",
       "    </tr>\n",
       "    <tr>\n",
       "      <th>4</th>\n",
       "      <td>Kochi</td>\n",
       "      <td>3.6</td>\n",
       "      <td>23.0</td>\n",
       "      <td>South Indian</td>\n",
       "      <td>Kerala</td>\n",
       "      <td>XXX</td>\n",
       "      <td>XXX</td>\n",
       "      <td>XXX</td>\n",
       "      <td>QUICK BITES</td>\n",
       "    </tr>\n",
       "  </tbody>\n",
       "</table>\n",
       "</div>"
      ],
      "text/plain": [
       "        CITY RATING   VOTES     CUISINES1   CUISINES2 CUISINES3  \\\n",
       "0      Noida    4.3   564.0  North Indian     Chinese   Mughlai   \n",
       "1     Mumbai    4.2    61.0  South Indian   Fast Food     Pizza   \n",
       "2     Mumbai    3.8   350.0  North Indian     Seafood   Biryani   \n",
       "3  Faridabad    3.8  1445.0       Biryani         XXX       XXX   \n",
       "4      Kochi    3.6    23.0  South Indian      Kerala       XXX   \n",
       "\n",
       "       CUISINES4 CUISINES5         TITLE1  \n",
       "0          Kebab       XXX  CASUAL DINING  \n",
       "1   North Indian       XXX    QUICK BITES  \n",
       "2        Chinese       XXX  CASUAL DINING  \n",
       "3            XXX       XXX           None  \n",
       "4            XXX       XXX    QUICK BITES  "
      ]
     },
     "execution_count": 86,
     "metadata": {},
     "output_type": "execute_result"
    }
   ],
   "source": [
    "df1.head()"
   ]
  },
  {
   "cell_type": "markdown",
   "metadata": {},
   "source": [
    "Now we will copy the same step for test data (.ie df1) in one cell."
   ]
  },
  {
   "cell_type": "code",
   "execution_count": 219,
   "metadata": {},
   "outputs": [
    {
     "name": "stdout",
     "output_type": "stream",
     "text": [
      "           TITLE  RESTAURANT_ID                                      CUISINES  \\\n",
      "0  CASUAL DINING           4085         North Indian, Chinese, Mughlai, Kebab   \n",
      "1    QUICK BITES          12680  South Indian, Fast Food, Pizza, North Indian   \n",
      "2  CASUAL DINING           1411       North Indian, Seafood, Biryani, Chinese   \n",
      "3           None            204                                       Biryani   \n",
      "4    QUICK BITES          13453                          South Indian, Kerala   \n",
      "\n",
      "                                                TIME       CITY      LOCALITY  \\\n",
      "0                      12noon – 12midnight (Mon-Sun)      Noida     Sector 18   \n",
      "1                            7am – 12:30AM (Mon-Sun)     Mumbai    Grant Road   \n",
      "2                           11am – 11:30pm (Mon-Sun)     Mumbai  Marine Lines   \n",
      "3  9am – 10pm (Mon, Wed, Thu, Fri, Sat, Sun), 10:...  Faridabad           NIT   \n",
      "4                              11am – 10pm (Mon-Sun)      Kochi        Kaloor   \n",
      "\n",
      "  RATING       VOTES  \n",
      "0    4.3   564 votes  \n",
      "1    4.2    61 votes  \n",
      "2    3.8   350 votes  \n",
      "3    3.8  1445 votes  \n",
      "4    3.6    23 votes  \n",
      "(4231, 8)\n",
      "Index(['TITLE', 'RESTAURANT_ID', 'CUISINES', 'TIME', 'CITY', 'LOCALITY',\n",
      "       'RATING', 'VOTES'],\n",
      "      dtype='object')\n",
      "<class 'pandas.core.frame.DataFrame'>\n",
      "RangeIndex: 4231 entries, 0 to 4230\n",
      "Data columns (total 8 columns):\n",
      " #   Column         Non-Null Count  Dtype \n",
      "---  ------         --------------  ----- \n",
      " 0   TITLE          4231 non-null   object\n",
      " 1   RESTAURANT_ID  4231 non-null   int64 \n",
      " 2   CUISINES       4231 non-null   object\n",
      " 3   TIME           4231 non-null   object\n",
      " 4   CITY           4196 non-null   object\n",
      " 5   LOCALITY       4201 non-null   object\n",
      " 6   RATING         4229 non-null   object\n",
      " 7   VOTES          3829 non-null   object\n",
      "dtypes: int64(1), object(7)\n",
      "memory usage: 264.6+ KB\n",
      "None\n",
      "TITLE            object\n",
      "RESTAURANT_ID     int64\n",
      "CUISINES         object\n",
      "TIME             object\n",
      "CITY             object\n",
      "LOCALITY         object\n",
      "RATING           object\n",
      "VOTES            object\n",
      "dtype: object\n",
      "True\n",
      "TITLE              0\n",
      "RESTAURANT_ID      0\n",
      "CUISINES           0\n",
      "TIME               0\n",
      "CITY              35\n",
      "LOCALITY          30\n",
      "RATING             2\n",
      "VOTES            402\n",
      "dtype: int64\n",
      "None\n",
      "None\n",
      "None\n",
      "None\n",
      "False\n",
      "None\n",
      "None\n",
      "None\n"
     ]
    }
   ],
   "source": [
    "print(df1.head())\n",
    "\n",
    "#checking shape of dataset\n",
    "print(df1.shape)\n",
    "\n",
    "#checking column names\n",
    "print(df1.columns)\n",
    "\n",
    "#checking the information of dataset\n",
    "print(df1.info())\n",
    "\n",
    "#checking the datatype\n",
    "print(df1.dtypes)\n",
    "\n",
    "#checking for null values\n",
    "print(df1.isnull().values.any())\n",
    "\n",
    "#checking for null values in each column\n",
    "print(df1.isnull().sum())\n",
    "\n",
    "#imputing the missing values with mode\n",
    "\n",
    "for col in ['CITY','LOCALITY','RATING','VOTES']:\n",
    "    print(df1[col].fillna(df1[col].mode()[0],inplace=True))\n",
    "    \n",
    "#now again checking for missing values\n",
    "\n",
    "print(df1.isnull().values.any())\n",
    "\n",
    "print(df1.drop('RESTAURANT_ID',axis=1,inplace=True))\n",
    "\n",
    "print(df1.drop('TIME',axis=1,inplace=True))\n",
    "\n",
    "df1.replace({'NEW': 3.9, '-': 3.9},inplace=True)\n",
    "\n",
    "#changing ratings column into Float type\n",
    "df1['RATING']=df1['RATING'].astype(float)\n",
    "\n",
    "df1['VOTES'] = df1['VOTES'].str.replace(' votes', '').astype(float)\n",
    "\n",
    "\n",
    "df1['CUISINES1']=df1['CUISINES'].str.split(',').str[0]\n",
    "df1['CUISINES2']=df1['CUISINES'].str.split(',').str[1]\n",
    "df1['CUISINES3']=df1['CUISINES'].str.split(',').str[2]\n",
    "df1['CUISINES4']=df1['CUISINES'].str.split(',').str[3]\n",
    "df1['CUISINES5']=df1['CUISINES'].str.split(',').str[4]\n",
    "\n",
    "df1['CUISINES2'].fillna('XXX',inplace=True)\n",
    "df1['CUISINES3'].fillna('XXX',inplace=True)\n",
    "df1['CUISINES4'].fillna('XXX',inplace=True)\n",
    "df1['CUISINES5'].fillna('XXX',inplace=True)\n",
    "\n",
    "print(df1.drop(['CUISINES'],axis=1,inplace=True))\n",
    "\n",
    "df1['TITLE1']=df1['TITLE'].str.split(',').str[0]\n",
    "df1['TITLE2']=df1['TITLE'].str.split(',').str[1]\n",
    "\n",
    "#In TITLE2 11208 rows are null,so we can drop it\n",
    "df1.drop(['TITLE','TITLE2'],axis=1,inplace=True)\n",
    "\n",
    "df1.drop('LOCALITY',axis=1,inplace=True)"
   ]
  },
  {
   "cell_type": "code",
   "execution_count": 220,
   "metadata": {},
   "outputs": [],
   "source": [
    "#transform non numeric column into numeric one\n",
    "from sklearn.preprocessing import LabelEncoder\n",
    "le=LabelEncoder()\n",
    "for col in df1.columns:\n",
    "    if df1[col].dtype==np.number:\n",
    "        continue\n",
    "    df1[col]=le.fit_transform(df1[col])"
   ]
  },
  {
   "cell_type": "code",
   "execution_count": 221,
   "metadata": {},
   "outputs": [
    {
     "data": {
      "text/plain": [
       "Index(['CITY', 'LOCALITY', 'RATING', 'VOTES', 'COST', 'CUISINES1', 'CUISINES2',\n",
       "       'CUISINES3', 'CUISINES4', 'CUISINES5', 'TITLE1'],\n",
       "      dtype='object')"
      ]
     },
     "execution_count": 221,
     "metadata": {},
     "output_type": "execute_result"
    }
   ],
   "source": [
    "df.columns"
   ]
  },
  {
   "cell_type": "code",
   "execution_count": 222,
   "metadata": {},
   "outputs": [
    {
     "data": {
      "text/plain": [
       "Index(['CITY', 'RATING', 'VOTES', 'CUISINES1', 'CUISINES2', 'CUISINES3',\n",
       "       'CUISINES4', 'CUISINES5', 'TITLE1'],\n",
       "      dtype='object')"
      ]
     },
     "execution_count": 222,
     "metadata": {},
     "output_type": "execute_result"
    }
   ],
   "source": [
    "df1.columns"
   ]
  },
  {
   "cell_type": "markdown",
   "metadata": {},
   "source": [
    "The columns in the test dataset(.ie df1) match with the train dataset(.ie df) and is ready for prediction of cost "
   ]
  },
  {
   "cell_type": "code",
   "execution_count": 223,
   "metadata": {},
   "outputs": [
    {
     "name": "stdout",
     "output_type": "stream",
     "text": [
      "[3.71988982 3.71988982 3.71988982 ... 3.71988982 3.71988982 3.71988982]\n"
     ]
    }
   ],
   "source": [
    "model = joblib.load(\"restaurant_cost_prediction_rf.pkl\")\n",
    "cost_prediction = model.predict(df1)\n",
    "print(cost_prediction)"
   ]
  },
  {
   "cell_type": "code",
   "execution_count": null,
   "metadata": {},
   "outputs": [],
   "source": []
  }
 ],
 "metadata": {
  "kernelspec": {
   "display_name": "Python 3",
   "language": "python",
   "name": "python3"
  },
  "language_info": {
   "codemirror_mode": {
    "name": "ipython",
    "version": 3
   },
   "file_extension": ".py",
   "mimetype": "text/x-python",
   "name": "python",
   "nbconvert_exporter": "python",
   "pygments_lexer": "ipython3",
   "version": "3.8.3"
  }
 },
 "nbformat": 4,
 "nbformat_minor": 4
}
